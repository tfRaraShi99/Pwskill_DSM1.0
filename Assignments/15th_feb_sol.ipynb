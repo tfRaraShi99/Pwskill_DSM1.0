{
 "cells": [
  {
   "cell_type": "markdown",
   "metadata": {},
   "source": [
    "Q1. What is multiprocessing in python? Why is it useful? \n",
    "\n",
    "Ans: Multiprocessing in Python is a module that allows the creation of multiple processes, each with its own Python interpreter and memory space. This is useful for CPU-bound tasks as it enables true parallelism by utilizing multiple cores of a processor, unlike multithreading which is limited by the Global Interpreter Lock (GIL) in CPython.\n",
    "\n",
    "It is useful because of:\n",
    "\n",
    " * **True Parallelism**: Allows for the execution of multiple processes simultaneously on multiple CPU cores.\n",
    "\n",
    " * **Bypassing GIL**: Each process has its own Python interpreter and memory space, so it is not affected by the Global Interpreter Lock (GIL).\n",
    " \n",
    " * **Improved Performance**: Suitable for CPU-bound tasks that require significant computational power.\n",
    "\n"
   ]
  },
  {
   "cell_type": "code",
   "execution_count": null,
   "metadata": {},
   "outputs": [],
   "source": []
  },
  {
   "cell_type": "markdown",
   "metadata": {},
   "source": [
    "Q2. What are the differences between multiprocessing and multithreading?\n",
    "\n",
    "Ans: \n",
    "|Multiprocessing|Multithreading|\n",
    "|------------|--------------|\n",
    "|**Separate Memory Space**: Each process has its own memory space.|**Shared Memory Space**: Threads within the same process share the same memory space.|\n",
    "|**True Parallelism**: Can achieve true parallelism, suitable for CPU-bound tasks.| **Concurrency,not Parallelism**: More suitable for I/O-bound tasks due to GIL constraints.|\n",
    "|**Heavyweight**: Processes are more resource-intensive to create and manage.|**Lightweight**: Threads are less resource-intensive compared to processes.|\n",
    "|**No GIL**: Each process has its own Python interpreter, avoiding the limitations of the GIL.|**GIL Limitation**: Threads are subject to the GIL, limiting true parallel execution in CPU-bound tasks.|\n"
   ]
  },
  {
   "cell_type": "code",
   "execution_count": null,
   "metadata": {},
   "outputs": [],
   "source": []
  },
  {
   "cell_type": "markdown",
   "metadata": {},
   "source": [
    "Q3. Write a python code to create a process using the multiprocessing module.\n"
   ]
  },
  {
   "cell_type": "code",
   "execution_count": 1,
   "metadata": {},
   "outputs": [],
   "source": [
    "import multiprocessing\n",
    "\n",
    "import multiprocessing\n",
    "\n",
    "def square_function(n):\n",
    "    return n ** 2\n",
    "\n",
    "if __name__ == \"__main__\":\n",
    "    with multiprocessing.Pool(processes=5) as pool:\n",
    "        out = pool.map(square_function,[3,4,5,7,7])\n",
    "        print(out)"
   ]
  },
  {
   "cell_type": "code",
   "execution_count": null,
   "metadata": {},
   "outputs": [],
   "source": []
  },
  {
   "cell_type": "markdown",
   "metadata": {},
   "source": [
    "Q4. What is a multiprocessing pool in python? Why is it used?\n",
    "\n",
    "Ans: A multiprocessing pool in Python is a collection of worker processes that can be used to execute functions in parallel. The multiprocessing.Pool class provides a convenient means of parallelizing the execution of a function across multiple input values, distributing the input data across processes (data parallelism).\n",
    "\n",
    "It is used because it provides:\n",
    "\n",
    " * **Simplified Parallelism**: Easily parallelizes tasks without explicit management of processes.\n",
    " * **Efficient Resource Utilization**: Manages a fixed number of worker processes, reusing them for different tasks.\n",
    " * **Convenient Methods**: Provides methods like apply, map, apply_async, and map_async for parallel task execution.\n"
   ]
  },
  {
   "cell_type": "code",
   "execution_count": null,
   "metadata": {},
   "outputs": [],
   "source": []
  },
  {
   "cell_type": "markdown",
   "metadata": {},
   "source": [
    "Q5. How can we create a pool of worker processes in python using the multiprocessing module?\n",
    "\n",
    "Ans: One can create a pool of worker processes using the multiprocessing.Pool class. "
   ]
  },
  {
   "cell_type": "code",
   "execution_count": 1,
   "metadata": {},
   "outputs": [],
   "source": [
    "import multiprocessing\n",
    "\n",
    "def worker_function(x):\n",
    "    return x * x\n",
    "\n",
    "if __name__ == \"__main__\":\n",
    "    with multiprocessing.Pool(processes=4) as pool:\n",
    "        results = pool.map(worker_function, [1, 2, 3, 4, 5])\n",
    "        print(results)"
   ]
  },
  {
   "cell_type": "code",
   "execution_count": null,
   "metadata": {},
   "outputs": [],
   "source": []
  },
  {
   "cell_type": "markdown",
   "metadata": {},
   "source": [
    "Q6. Write a python program to create 4 processes, each process should print a different number using the \n",
    "multiprocessing module in python."
   ]
  },
  {
   "cell_type": "code",
   "execution_count": null,
   "metadata": {},
   "outputs": [],
   "source": [
    "import multiprocessing\n",
    "\n",
    "def print_number(number):\n",
    "    print(f\"Process {multiprocessing.current_process().name} is printing: {number}\")\n",
    "\n",
    "if __name__ == \"__main__\":\n",
    "    processes = []\n",
    "    numbers = [1, 2, 3, 4]\n",
    "    \n",
    "    for number in numbers:\n",
    "        p = multiprocessing.Process(target=print_number, args=(number,))\n",
    "        processes.append(p)\n",
    "        p.start()\n",
    "    \n",
    "    for p in processes:\n",
    "        p.join()\n"
   ]
  }
 ],
 "metadata": {
  "kernelspec": {
   "display_name": "Python 3",
   "language": "python",
   "name": "python3"
  },
  "language_info": {
   "codemirror_mode": {
    "name": "ipython",
    "version": 3
   },
   "file_extension": ".py",
   "mimetype": "text/x-python",
   "name": "python",
   "nbconvert_exporter": "python",
   "pygments_lexer": "ipython3",
   "version": "3.12.0"
  }
 },
 "nbformat": 4,
 "nbformat_minor": 2
}
