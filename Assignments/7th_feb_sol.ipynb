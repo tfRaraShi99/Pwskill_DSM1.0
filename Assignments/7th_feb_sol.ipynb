{
 "cells": [
  {
   "cell_type": "markdown",
   "id": "4a8c73e9-0801-4e7f-bfba-696691b376cb",
   "metadata": {},
   "source": [
    "Q1. You are writing code for a company. The requirement of the company is that you create a python \n",
    "function that will check whether the password entered by the user is correct or not. The function should \n",
    "take the password as input and return the string “Valid Password” if the entered password follows the \n",
    "below-given password guidelines else it should return “Invalid Password”.\n",
    "\n",
    "\n",
    "Note: \n",
    "1. The Password should contain at least two uppercase letters and at least two lowercase letters.\n",
    "\n",
    "2. The Password should contain at least a number and three special characters.\n",
    "\n",
    "3. The length of the password should be 10 characters long.\n",
    "\n"
   ]
  },
  {
   "cell_type": "code",
   "execution_count": 1,
   "id": "7396c925-2ee3-4a70-abbf-a6a9ea836620",
   "metadata": {},
   "outputs": [
    {
     "name": "stdin",
     "output_type": "stream",
     "text": [
      "Enter Your Password:  U12@Ta*bn#nR\n"
     ]
    },
    {
     "data": {
      "text/plain": [
       "'Valid Password'"
      ]
     },
     "execution_count": 1,
     "metadata": {},
     "output_type": "execute_result"
    }
   ],
   "source": [
    "def check():\n",
    "    \n",
    "    s=input(\"Enter Your Password: \")\n",
    "\n",
    "    #uppercase count  \n",
    "    cu=0\n",
    "    #numeric count\n",
    "    cn=0\n",
    "    #special chr count\n",
    "    cs=0\n",
    "    \n",
    "    #atleast len(s) >=10\n",
    "    if len(s) >=10:\n",
    "        for i in s:\n",
    "            # atleast two uppercase\n",
    "            if (i).isupper():\n",
    "                cu+=1\n",
    "            # atleast a number \n",
    "            elif (i).isnumeric():\n",
    "                cn+=1\n",
    "            #atleast three special chr\n",
    "            elif not (i).isalnum():\n",
    "                cs+=1\n",
    "                \n",
    "    if cu>=2 and cn>=1 and cs>=3:\n",
    "        return \"Valid Password\"\n",
    "    return \"Invalid Password\"\n",
    "\n",
    "check()\n",
    "\n",
    "#suitable e.g. of Valid Password\n",
    "# s='U12@Ta*bn#nR'\n",
    "\n",
    "#e.g. of Invalid Password Type\n",
    "#less than 10 charcter\n",
    "# s=\"UT123@\"\n",
    "\n",
    "#less than 2 uppercase\n",
    "# s='u12@Ta*bn#nr'\n",
    "\n",
    "#less than 1 number\n",
    "# s='Upq@Ta*bn#nR'\n",
    "\n",
    "#less than 3 special chr\n",
    "# s='u12pTaQbnxnr'\n",
    "\n",
    "                \n",
    "                \n",
    "        "
   ]
  },
  {
   "cell_type": "code",
   "execution_count": null,
   "id": "b91824f7-4a9c-49dd-9e79-8120b7bc4805",
   "metadata": {},
   "outputs": [],
   "source": []
  },
  {
   "cell_type": "markdown",
   "id": "c1098709-ce91-4010-829d-3c7a6111a617",
   "metadata": {},
   "source": [
    "Q2. Solve the below-given questions using at least one of the following: \n",
    "\n",
    "1. Lambda function\n",
    "\n",
    "2. Filter function\n",
    "\n",
    "3. Map function\n",
    "\n",
    "4. List Comprehension\n",
    "\n",
    " * Check if the string starts with a particular letter.\n",
    " * Check if the string is numeric.\n",
    " * Sort a list of tuples having fruit names and their quantity. [(\"mango\",99),(\"orange\",80), (\"grapes\", 1000)]\n",
    " * Find the squares of numbers from 1 to 10.\n",
    " * Find the cube root of numbers from 1 to 10.\n",
    " * Check if a given number is even.\n",
    " * Filter odd numbers from the given list. [1,2,3,4,5,6,7,8,9,10]\n",
    " * Sort a list of integers into positive and negative integers lists. [1,2,3,4,5,6,-1,-2,-3,-4,-5,0]"
   ]
  },
  {
   "cell_type": "code",
   "execution_count": 2,
   "id": "c6c81c76-b035-4e31-b3bf-fb38b187b086",
   "metadata": {},
   "outputs": [
    {
     "name": "stdin",
     "output_type": "stream",
     "text": [
      "Enter Your String:  I am happy.\n",
      "Enter target letter:  a\n"
     ]
    },
    {
     "name": "stdout",
     "output_type": "stream",
     "text": [
      "\n",
      "Using Lambda function:False\n",
      "\n",
      "Using Filter function:False\n",
      "\n",
      "Using Map function:False\n",
      "\n",
      "Using List Comprehension:False\n"
     ]
    }
   ],
   "source": [
    "# (i) Check if the string starts with a particular letter\n",
    "\n",
    "s=input(\"Enter Your String: \")\n",
    "target=input(\"Enter target letter: \")\n",
    "\n",
    "print()\n",
    "\n",
    "# 1. Using Lambda Function\n",
    "def check_pl1(s,target):\n",
    "    res1 = lambda s: s.startswith(target)\n",
    "    return res1(s)\n",
    "print(f'Using Lambda function:{check_pl1(s,target)}')\n",
    "\n",
    "print()\n",
    "\n",
    "# 2. Using Filter Function\n",
    "def check_pl2(s,target):\n",
    "    res2 = list(filter(lambda s: s.startswith(target), [s]))\n",
    "    return bool(res2)\n",
    "print(f'Using Filter function:{check_pl2(s,target)}')\n",
    "\n",
    "print()\n",
    "\n",
    "# 3. Using Map Function\n",
    "def check_pl3(s,target):\n",
    "    res3 = list(map(lambda s: s.startswith(target), [s]))\n",
    "    return res3[0]\n",
    "print(f'Using Map function:{check_pl3(s,target)}')\n",
    "\n",
    "print()\n",
    "\n",
    "# 4. Using List Comprehension\n",
    "def check_pl4(s,target):\n",
    "    res4 = [i.startswith(target) for i in [s]]\n",
    "    return res4[0]\n",
    "print(f'Using List Comprehension:{check_pl4(s,target)}')\n",
    "\n"
   ]
  },
  {
   "cell_type": "code",
   "execution_count": 3,
   "id": "728625ab-b8a4-4619-b78d-f3f787210062",
   "metadata": {},
   "outputs": [
    {
     "name": "stdin",
     "output_type": "stream",
     "text": [
      "Enter Your String 123r\n"
     ]
    },
    {
     "name": "stdout",
     "output_type": "stream",
     "text": [
      "Original String: 123r\n",
      "\n",
      "Using Lambda function:False\n",
      "\n",
      "Using Filter function:False\n",
      "\n",
      "Using Map function:False\n",
      "\n",
      "Using List Comprehension:False\n"
     ]
    }
   ],
   "source": [
    "# (ii) Check if the string is numeric\n",
    "\n",
    "s=input(\"Enter Your String\")\n",
    "print(f'Original String: {s}')\n",
    "\n",
    "print()\n",
    "\n",
    "# 1. Using Lambda Function\n",
    "def check_n1(s):\n",
    "    res1 = lambda s: s.isnumeric()\n",
    "    return res1(s)\n",
    "print(f'Using Lambda function:{check_n1(s)}')\n",
    "\n",
    "print()\n",
    "\n",
    "# 2. Using Filter Function\n",
    "def check_n2(s):\n",
    "    res2 = list(filter(lambda s: s.isnumeric(), [s]))\n",
    "    return bool(res2)\n",
    "print(f'Using Filter function:{check_n2(s)}')\n",
    "\n",
    "print()\n",
    "\n",
    "# 3. Using Map Function\n",
    "def check_n3(s):\n",
    "    res3 = list(map(lambda s: s.isnumeric(), [s]))\n",
    "    return bool(res3[0])\n",
    "print(f'Using Map function:{check_n3(s)}')\n",
    "\n",
    "print()\n",
    "\n",
    "# 4. Using List Comprehension\n",
    "def check_n4(s):\n",
    "    res4 = [i.isnumeric() for i in [s]]\n",
    "    return bool(res4[0])\n",
    "print(f'Using List Comprehension:{check_n4(s)}')\n"
   ]
  },
  {
   "cell_type": "code",
   "execution_count": 4,
   "id": "c2d6485b-5847-43fa-8382-7a938bd2bc37",
   "metadata": {},
   "outputs": [
    {
     "name": "stdout",
     "output_type": "stream",
     "text": [
      "Original List: [('mango', 99), ('orange', 80), ('grapes', 1000)]\n",
      "\n",
      "Using Lambda function: [('orange', 80), ('mango', 99), ('grapes', 1000)]\n",
      "\n",
      "Using List Comprehension: [('orange', 80), ('mango', 99), ('grapes', 1000)]\n"
     ]
    }
   ],
   "source": [
    "# (iii) Sort a list of tuples having fruit names and their quantity. \n",
    "\n",
    "l= [(\"mango\",99),(\"orange\",80), (\"grapes\", 1000)]\n",
    "print(f'Original List: {l}')\n",
    "\n",
    "print()\n",
    "\n",
    "# 1. Using Lambda Function\n",
    "def check_st1(l):\n",
    "    res1=sorted(l, key= lambda x: x[1])\n",
    "    return res1\n",
    "print(f'Using Lambda function: {check_st1(l)}')\n",
    "\n",
    "print()\n",
    "\n",
    "#2. Using List Comprehension\n",
    "def check_st2(l):\n",
    "    res2 = [x for x in sorted(l,key=lambda x:x[1])]\n",
    "    return res2\n",
    "print(f'Using List Comprehension: {check_st2(l)}')\n",
    "\n"
   ]
  },
  {
   "cell_type": "code",
   "execution_count": 7,
   "id": "e9f42d34-6009-4004-8862-f8514a8c29f1",
   "metadata": {},
   "outputs": [
    {
     "name": "stdout",
     "output_type": "stream",
     "text": [
      "original list: [1, 2, 3, 4, 5, 6, 7, 8, 9, 10]\n",
      "\n",
      "Using Map function:[1, 4, 9, 16, 25, 36, 49, 64, 81, 100]\n",
      "\n",
      "Using List Comprehension:[1, 4, 9, 16, 25, 36, 49, 64, 81, 100]\n"
     ]
    }
   ],
   "source": [
    "# (iv) Find the squares of numbers from 1 to 10.\n",
    "\n",
    "l=[x for x in range(1,11)]\n",
    "print(f\"original list: {l}\")\n",
    "print()\n",
    "\n",
    "# 1. Using Map Function\n",
    "def find_sq1(l):\n",
    "    res1 = list(map(lambda x: x**2, l))\n",
    "    return res1\n",
    "print(f'Using Map function:{find_sq1(l)}')\n",
    "\n",
    "print()\n",
    "\n",
    "# # 4. Using List Comprehension\n",
    "def find_sq2(l):\n",
    "    res2 = [(lambda x: x ** 2)(x) for x in l]\n",
    "    return res2\n",
    "print(f'Using List Comprehension:{find_sq2(l)}')\n",
    "\n"
   ]
  },
  {
   "cell_type": "code",
   "execution_count": 8,
   "id": "a4d1469c-45b5-4192-b083-50e0397bea2e",
   "metadata": {},
   "outputs": [
    {
     "name": "stdout",
     "output_type": "stream",
     "text": [
      "original list: [1, 2, 3, 4, 5, 6, 7, 8, 9, 10]\n",
      "\n",
      "Using Map function: [1.0, 1.26, 1.442, 1.587, 1.71, 1.817, 1.913, 2.0, 2.08, 2.154]\n",
      "\n",
      "Using List Comprehension: [1.0, 1.26, 1.442, 1.587, 1.71, 1.817, 1.913, 2.0, 2.08, 2.154]\n"
     ]
    }
   ],
   "source": [
    "# (v) Find the cube root of numbers from 1 to 10.\n",
    "import numpy as np\n",
    "\n",
    "l=[x for x in range(1,11)] \n",
    "print(f\"original list: {l}\")\n",
    "print()\n",
    "\n",
    "\n",
    "# 1. Using Map Function\n",
    "def find_cub1(l):\n",
    "    \n",
    "    res1 = list(map(lambda x: round(np.cbrt(x),3), l))\n",
    "    return res1\n",
    "print(f'Using Map function: {find_cub1(l)}')\n",
    "\n",
    "print()\n",
    "\n",
    "# # 4. Using List Comprehension\n",
    "def find_cub2(l):\n",
    "    res2 = [(lambda x: round(np.cbrt(x),3) )(x) for x in l]\n",
    "    return res2\n",
    "print(f'Using List Comprehension: {find_cub2(l)}')\n",
    "\n"
   ]
  },
  {
   "cell_type": "code",
   "execution_count": 10,
   "id": "aeb70e0d-1f3f-4335-a199-2ec64c22647d",
   "metadata": {},
   "outputs": [
    {
     "name": "stdin",
     "output_type": "stream",
     "text": [
      "Enter Your Number 6\n"
     ]
    },
    {
     "name": "stdout",
     "output_type": "stream",
     "text": [
      "Original Number: 6\n",
      "\n",
      "Using Lambda function: even\n",
      "\n",
      "Using Filter function: even\n",
      "\n",
      "Using Map function: even\n",
      "\n",
      "Using List Comprehension: even\n"
     ]
    }
   ],
   "source": [
    "# (vi) Check if a given number is even.\n",
    "\n",
    "num=int(input(\"Enter Your Number\"))\n",
    "print(f'Original Number: {num}')\n",
    "\n",
    "print()\n",
    "\n",
    "# 1. Using Lambda Function\n",
    "def even_n1(num):\n",
    "    res1 = lambda num: num %2 ==0\n",
    "    return 'even' if res1(num) == True else 'Not even'\n",
    "print(f'Using Lambda function: {even_n1(num)}')\n",
    "\n",
    "print()\n",
    "\n",
    "# 2. Using Filter Function\n",
    "def even_n2(num):\n",
    "    res2 = list(filter(lambda x: x %2 == 0, [num]))\n",
    "    return 'even' if res2 else 'Not even' \n",
    "print(f'Using Filter function: {even_n2(num)}')\n",
    "\n",
    "print()\n",
    "\n",
    "# 3. Using Map Function\n",
    "def even_n3(num):\n",
    "    res3 = list(map(lambda x: x%2==0, [num]))\n",
    "    return 'even' if res3[0] else 'Not even'\n",
    "print(f'Using Map function: {even_n3(num)}')\n",
    "\n",
    "print()\n",
    "\n",
    "\n",
    "# 4. Using List Comprehension\n",
    "def even_n4(num):\n",
    "    res4 = [x for x in [num] if x%2==0]\n",
    "    return 'even' if res4 else 'Not even'\n",
    "print(f'Using List Comprehension: {even_n4(num)}')\n",
    "\n"
   ]
  },
  {
   "cell_type": "code",
   "execution_count": 11,
   "id": "61fc95b7-4e59-4ec6-9757-9d4b404d82b7",
   "metadata": {},
   "outputs": [
    {
     "name": "stdout",
     "output_type": "stream",
     "text": [
      "original list: [1, 2, 3, 4, 5, 6, 7, 8, 9, 10]\n",
      "\n",
      "Using Filter function: [1, 3, 5, 7, 9]\n",
      "\n",
      "Using Map function: [1, 3, 5, 7, 9]\n",
      "\n",
      "Using List Comprehension: [1, 3, 5, 7, 9]\n"
     ]
    }
   ],
   "source": [
    "# (vii) Filter odd numbers from the given list. \n",
    "\n",
    "l=[1,2,3,4,5,6,7,8,9,10]\n",
    "print(f\"original list: {l}\")\n",
    "print()\n",
    "\n",
    "# 1. Using Filter Function\n",
    "def odd_n1(l):\n",
    "    res1 = list(filter(lambda x: x %2 != 0, l))\n",
    "    return res1\n",
    "print(f'Using Filter function: {odd_n1(l)}')\n",
    "\n",
    "print()\n",
    "\n",
    "# 2. Using Map Function\n",
    "def odd_n2(l):\n",
    "    res2 = list(map(lambda x: x if x % 2 != 0 else None, l))\n",
    "    res2 = [x for x in res2 if x is not None]\n",
    "    return res2\n",
    "print(f'Using Map function: {odd_n2(l)}')\n",
    "\n",
    "print()\n",
    "\n",
    "# 3. Using List Comprehension\n",
    "def odd_n3(l):\n",
    "    res3 = [x for x in l if x%2 !=0]\n",
    "    return res3\n",
    "print(f'Using List Comprehension: {odd_n3(l)}')\n",
    "\n",
    "\n"
   ]
  },
  {
   "cell_type": "code",
   "execution_count": 12,
   "id": "caad06bb-dcb3-4d17-bd77-3a33be195f52",
   "metadata": {},
   "outputs": [
    {
     "name": "stdout",
     "output_type": "stream",
     "text": [
      "Original List: [1, 2, 3, 4, 5, 6, -1, -2, -3, -4, -5, 0]\n",
      "\n",
      "Using Lambda function: [1, 2, 3, 4, 5, 6, 0, -1, -2, -3, -4, -5]\n",
      "\n",
      "Using List Comprehension: [1, 2, 3, 4, 5, 6, 0, -1, -2, -3, -4, -5]\n"
     ]
    }
   ],
   "source": [
    "# (viii) Sort a list of integers into positive and negative integers lists. \n",
    "\n",
    "l=[1,2,3,4,5,6,-1,-2,-3,-4,-5,0]\n",
    "\n",
    "print(f'Original List: {l}')\n",
    "\n",
    "print()\n",
    "\n",
    "# 1. Using Lambda Function\n",
    "def sort_pn1(l):\n",
    "    res1=sorted(l, key = lambda x: x < 0)\n",
    "    return res1\n",
    "print(f'Using Lambda function: {sort_pn1(l)}')\n",
    "\n",
    "print()\n",
    "\n",
    "#2. Using List Comprehension\n",
    "def sort_pn2(l):\n",
    "    res2 = [x for x in sorted(l, key = lambda x: x < 0)]\n",
    "    return res2\n",
    "print(f'Using List Comprehension: {sort_pn2(l)}')"
   ]
  }
 ],
 "metadata": {
  "kernelspec": {
   "display_name": "Python 3 (ipykernel)",
   "language": "python",
   "name": "python3"
  },
  "language_info": {
   "codemirror_mode": {
    "name": "ipython",
    "version": 3
   },
   "file_extension": ".py",
   "mimetype": "text/x-python",
   "name": "python",
   "nbconvert_exporter": "python",
   "pygments_lexer": "ipython3",
   "version": "3.10.8"
  }
 },
 "nbformat": 4,
 "nbformat_minor": 5
}
