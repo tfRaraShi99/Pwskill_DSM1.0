{
 "cells": [
  {
   "cell_type": "markdown",
   "metadata": {},
   "source": [
    "Q1. Which function is used to open a file? What are the different modes of opening a file? Explain each mode \n",
    "of file opening.\n",
    "\n",
    "Ans: Open function is used to open a file. The different modes of opening a file are:\n",
    "\n",
    " * 'r' : (Read Only) opens the file for reading only. This is the default mode if no mode is specified. Raises an error if the file doesn't exist.\n",
    "\n",
    " * 'r+': (Read and Write) opens the file for both reading and writing. This mode does not override the existing data, but you can modify the data starting from the beginning of the file. Thus file pointer is placed at the beginning of the file.\n",
    "\n",
    " * 'w' : (Write Only) opens the file for writing only. If the file exists, it truncates it to zero length. If it doesn't exist, it creates a new file.\n",
    "     \n",
    " * 'w+': (Write and Read) opens the file for both reading and writing. If the file exists, it truncates it to zero length. If it doesn't exist, it creates a new file.\n",
    "\n",
    " * 'a' :(Append Only) opens the file for appending. It won’t override existing data. All data written to the file is added to the end. If the file doesn't exist, it creates a new file.\n",
    "\n",
    " * 'a+': (Append and Read) opens the file for both appending and reading. All data written to the file is added to the end. If the file doesn't exist, it creates a new file.\n",
    "\n",
    " * 'x' : (Exclusive Creation) opens a file for writing only, but only if the file does not already exist. If the file exists, it raises a FileExistsError.\n",
    "\n",
    " * 'b' : (Binary) opens a file in binary format, which is used for non-text files like images, audio, and video.\n",
    "\n",
    " * 't' : (Text) opens a file in text format (the default mode). It is used for reading and writing text files.\n",
    "\n",
    " * '+' : (Update) allows both reading and writing to the same file.\n",
    "     \n",
    "\n",
    "\n",
    "\n",
    "     "
   ]
  },
  {
   "cell_type": "code",
   "execution_count": null,
   "metadata": {},
   "outputs": [],
   "source": []
  },
  {
   "cell_type": "markdown",
   "metadata": {},
   "source": [
    "Q2. Why close() function is used? Why is it important to close a file?\n",
    "\n",
    "Ans: The close() method closes an open file.So one should always close the opened file, as in some cases, due to buffering, changes made to the file may not show until one closes the file."
   ]
  },
  {
   "cell_type": "code",
   "execution_count": null,
   "metadata": {},
   "outputs": [],
   "source": []
  },
  {
   "cell_type": "markdown",
   "metadata": {},
   "source": [
    "Q3. Write a python program to create a text file. Write ‘I want to become a Data Scientist’ in that file. Then \n",
    "close the file. Open this file and read the content of the file.  "
   ]
  },
  {
   "cell_type": "code",
   "execution_count": 25,
   "metadata": {},
   "outputs": [
    {
     "name": "stdout",
     "output_type": "stream",
     "text": [
      "I want to become a Data Scientist\n"
     ]
    }
   ],
   "source": [
    "fw= open('text.txt' , 'w')\n",
    "fw.write('I want to become a Data Scientist')\n",
    "fw.close()\n",
    "with open('text.txt', 'r') as file:\n",
    "    content = file.read() \n",
    "    print(content)"
   ]
  },
  {
   "cell_type": "code",
   "execution_count": null,
   "metadata": {},
   "outputs": [],
   "source": []
  },
  {
   "cell_type": "markdown",
   "metadata": {},
   "source": [
    "Q4. Explain the following with python code: read(), readline() and readlines().\n",
    "\n",
    "Ans: \n",
    " * read():\n",
    "Reads the entire content of a file as a single string.\n",
    "You can specify the number of bytes to read as an argument. If no argument is provided, it reads the entire file.\n",
    "\n",
    " * readline():\n",
    "Reads a single line from the file and returns it as a string.\n",
    "It includes the newline character at the end of the line.\n",
    "Calling it repeatedly reads subsequent lines. \n",
    "\n",
    "\n",
    " * readlines():\n",
    "Reads all lines of the file and returns them as a list of strings.\n",
    "Each element in the list represents one line, including newline characters. "
   ]
  },
  {
   "cell_type": "code",
   "execution_count": 18,
   "metadata": {},
   "outputs": [
    {
     "name": "stdout",
     "output_type": "stream",
     "text": [
      "I want to become a Data Scientist. Has any one enrolled in pwskill data science masters course?\n",
      "Its been taught by Sudhanshu Kumar sir & Krish Naik sir.\n",
      "It has validity of 2 years.\n",
      "\n",
      "\n",
      "I want to become a Data Scientist. Has any one enrolled in pwskill data science masters course?\n",
      "Its been taught by Sudhanshu Kumar sir & Krish Naik sir.\n",
      "\n",
      "\n",
      "['I want to become a Data Scientist. Has any one enrolled in pwskill data science masters course?\\n', 'Its been taught by Sudhanshu Kumar sir & Krish Naik sir.\\n', 'It has validity of 2 years.\\n']\n"
     ]
    }
   ],
   "source": [
    "# For e.g consider the following file with some content , to understand the difference between below read operations. \n",
    "fw= open('example.txt' , 'w')\n",
    "fw.write('I want to become a Data Scientist. Has any one enrolled in pwskill data science masters course?\\n')\n",
    "fw.write('Its been taught by Sudhanshu Kumar sir & Krish Naik sir.\\n')\n",
    "fw.write('It has validity of 2 years.\\n')\n",
    "\n",
    "# 1. read():\n",
    "with open('example.txt', 'r') as file:\n",
    "    content = file.read() \n",
    "    print(content)\n",
    "print()\n",
    "\n",
    "# 2. readline():\n",
    "with open('example.txt', 'r') as file:\n",
    "    line1 = file.readline()\n",
    "    print(line1,end='')\n",
    "    line2 = file.readline()\n",
    "    print(line2)\n",
    "print()\n",
    "    \n",
    "# 3. readlines():\n",
    "with open('example.txt', 'r') as file:\n",
    "    lines = file.readlines() \n",
    "    print(lines)"
   ]
  },
  {
   "cell_type": "code",
   "execution_count": null,
   "metadata": {},
   "outputs": [],
   "source": []
  },
  {
   "cell_type": "markdown",
   "metadata": {},
   "source": [
    "Q5. Explain why 'with' statement is used with open(). What is the advantage of using with statement and \n",
    "open() together?\n",
    "\n",
    "Ans: The with statement is used with the open() function to open a file and ensure it automatically closes once processing is complete. This eliminates the need to manually close the file with the close() method, even if errors occur. The with statement improves code readability and resource management, and is considered a good practice.\n",
    "\n",
    "Here's why using with and open() together is advantageous:\n",
    " * Automatic file closure: The file closes automatically after the code block within the with statement is executed, even if exceptions occur.\n",
    " * Simplified code : The with statement replaces commonly used try/finally error-handling statements, simplifying the code.\n",
    " * Resource leak prevention: Guarantees that resources are released, which is crucial for preventing resource leaks that can crash or slow down the system.\n",
    " * Clean syntax : Provides cleaner syntax and exception handling.\n",
    " * Multiple file handling : Allows opening multiple files simultaneously within a single with statement. "
   ]
  },
  {
   "cell_type": "code",
   "execution_count": null,
   "metadata": {},
   "outputs": [],
   "source": []
  },
  {
   "cell_type": "markdown",
   "metadata": {},
   "source": [
    "Q6. Explain the write() and writelines() functions. Give a suitable example.\n",
    "\n",
    "Ans: Both write() and writelines() functions operate on open files, accessed through a file object. The key difference lies in what they write:\n",
    "\n",
    "write() : Takes a single string as an argument and writes it to the file. It doesn't add a newline character '\\n' automatically.\n",
    "\n",
    "writelines() : Takes an iterable (string or list of strings) as an argument and writes each string to the file. It doesn't add newline characters between the strings, so you need to include them manually if needed.\n"
   ]
  },
  {
   "cell_type": "code",
   "execution_count": 23,
   "metadata": {},
   "outputs": [],
   "source": [
    "with open(\"myfile.txt\", \"w\") as f:\n",
    "    f.write(\"This is the first line.\\n\")\n",
    "\n",
    "\n",
    "\n",
    "with open(\"myfile2.txt\", \"w\") as fw:\n",
    "    fw.write(\"This is the first line.\\n\")\n",
    "    lines = [\"This is the second line.\", \"This is the third line.\\n\",\n",
    "             \"This is the fourth line.\", \"This is the fifth line.\\n\"]\n",
    "    lines2 =[\"\\n\\nThis is the sixth line.\", \"This is the seventh line.\"]\n",
    "    fw.writelines(lines)\n",
    "    fw.writelines(lines2)\n"
   ]
  },
  {
   "cell_type": "code",
   "execution_count": null,
   "metadata": {},
   "outputs": [],
   "source": []
  }
 ],
 "metadata": {
  "kernelspec": {
   "display_name": "Python 3",
   "language": "python",
   "name": "python3"
  },
  "language_info": {
   "codemirror_mode": {
    "name": "ipython",
    "version": 3
   },
   "file_extension": ".py",
   "mimetype": "text/x-python",
   "name": "python",
   "nbconvert_exporter": "python",
   "pygments_lexer": "ipython3",
   "version": "3.12.0"
  }
 },
 "nbformat": 4,
 "nbformat_minor": 2
}
