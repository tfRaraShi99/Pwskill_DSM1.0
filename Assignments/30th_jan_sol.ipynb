{
 "cells": [
  {
   "cell_type": "markdown",
   "id": "f0378ac2-225c-4127-b831-17fa3c38faca",
   "metadata": {},
   "source": [
    "Q1.Write a program to accept percentage from the user and display the grade according to the following criteria:\n",
    "\n",
    "\n",
    "| Marks | Grade | \n",
    "| :- | -: | \n",
    "| >90 | A |\n",
    "| >80 and < 90 | B|\n",
    "| >=60 and <=80  | C|\n",
    "| below 60 | D|\n"
   ]
  },
  {
   "cell_type": "code",
   "execution_count": 1,
   "id": "b0a54acd-f6b6-4d17-aecd-90b5b6d16ae4",
   "metadata": {},
   "outputs": [
    {
     "name": "stdin",
     "output_type": "stream",
     "text": [
      "Enter your percentage:  87\n"
     ]
    },
    {
     "name": "stdout",
     "output_type": "stream",
     "text": [
      "Your grade is: B\n"
     ]
    }
   ],
   "source": [
    "# Accepting percentage from the user\n",
    "percentage = float(input(\"Enter your percentage: \"))\n",
    "\n",
    "# Grading based on the percentage\n",
    "if percentage > 90:\n",
    "    grade = \"A\"\n",
    "elif percentage > 80 and percentage <= 90:\n",
    "    grade = \"B\"\n",
    "elif percentage >= 60 and percentage <= 80:\n",
    "    grade = \"C\"\n",
    "else:\n",
    "    grade = \"D\"\n",
    "\n",
    "# Display the grade\n",
    "print(f\"Your grade is: {grade}\")\n"
   ]
  },
  {
   "cell_type": "code",
   "execution_count": null,
   "id": "eb7b1fbb-5064-4c77-ab08-d8cf980c914c",
   "metadata": {},
   "outputs": [],
   "source": []
  },
  {
   "cell_type": "markdown",
   "id": "a9cdcfe2-a652-4edf-9504-88e9e4c637f3",
   "metadata": {},
   "source": [
    "Q2.Write a program to accept the cost price of a bike and display the road tax to be paid according to the following criteria:\n",
    "\n",
    "| Tax |     Cost Price(in Rs) | \n",
    "| :-  |                    -: | \n",
    "| 15% |               >100000 |\n",
    "| 10% |  >50000 and <= 100000 |\n",
    "| 5%  |              <= 50000 |"
   ]
  },
  {
   "cell_type": "code",
   "execution_count": 2,
   "id": "8631ee8c-b46c-44e2-ba73-074e78439583",
   "metadata": {},
   "outputs": [
    {
     "name": "stdin",
     "output_type": "stream",
     "text": [
      "Enter the cost price of the bike in Rs:  670000\n"
     ]
    },
    {
     "name": "stdout",
     "output_type": "stream",
     "text": [
      "The road tax to be paid is: Rs 100500.00\n"
     ]
    }
   ],
   "source": [
    "# Accepting the cost price of the bike from the user\n",
    "cost_price = float(input(\"Enter the cost price of the bike in Rs: \"))\n",
    "\n",
    "# Determining the road tax based on the cost price\n",
    "if cost_price > 100000:\n",
    "    tax = 0.15 * cost_price\n",
    "elif cost_price > 50000 and cost_price <= 100000:\n",
    "    tax = 0.10 * cost_price\n",
    "else:\n",
    "    tax = 0.05 * cost_price\n",
    "\n",
    "# Displaying the road tax to be paid\n",
    "print(f\"The road tax to be paid is: Rs {tax:.2f}\")\n"
   ]
  },
  {
   "cell_type": "code",
   "execution_count": null,
   "id": "524bff7d-ab0f-48d8-8d6b-efdd08656735",
   "metadata": {},
   "outputs": [],
   "source": []
  },
  {
   "cell_type": "markdown",
   "id": "cda88a6f-1322-403d-b544-4592ebf8040f",
   "metadata": {},
   "source": [
    "Q3.Accept any city from the user and display monuments of that city.\n",
    "\n",
    "|City|Monument| \n",
    "|:-|-: | \n",
    "|Delhi|Red Fort|\n",
    "|Agra|Taj Mahal|\n",
    "|Jaipur|Jal Mahal|"
   ]
  },
  {
   "cell_type": "code",
   "execution_count": 4,
   "id": "5fafb793-03be-4019-a724-bc126aa4232e",
   "metadata": {},
   "outputs": [
    {
     "name": "stdin",
     "output_type": "stream",
     "text": [
      "Enter a city name (For e.g. Delhi, Agra, Jaipur):  Jaipur\n"
     ]
    },
    {
     "name": "stdout",
     "output_type": "stream",
     "text": [
      "The monument in Jaipur is: Jal Mahal\n"
     ]
    }
   ],
   "source": [
    "# Dictionary to map cities to their respective monuments\n",
    "city_monument = {\n",
    "    \"Delhi\": \"Red Fort\",\n",
    "    \"Agra\": \"Taj Mahal\",\n",
    "    \"Jaipur\": \"Jal Mahal\"\n",
    "}\n",
    "\n",
    "# Accept the city from the user\n",
    "city = input(\"Enter a city name (For e.g. Delhi, Agra, Jaipur): \")\n",
    "\n",
    "# Convert the input to title case to match the keys in the dictionary\n",
    "city = city.title()\n",
    "\n",
    "# Display the corresponding monument if the city is in the dictionary\n",
    "if city in city_monument:\n",
    "    print(f\"The monument in {city} is: {city_monument[city]}\")\n",
    "else:\n",
    "    print(f\"Sorry, I don't have information about the monuments in {city}.\")\n"
   ]
  },
  {
   "cell_type": "code",
   "execution_count": null,
   "id": "aba906ff-ee46-48b5-b26c-ddb8c558064b",
   "metadata": {},
   "outputs": [],
   "source": []
  },
  {
   "cell_type": "markdown",
   "id": "281d90e2-70f4-4362-8a1d-3562cb3bf940",
   "metadata": {},
   "source": [
    "Q4. Check how many times a given number can be divided by 3 before it is less than or equal to 10.\n"
   ]
  },
  {
   "cell_type": "code",
   "execution_count": 11,
   "id": "c4058e2f-10a6-43d7-a9e9-63add83c50e3",
   "metadata": {},
   "outputs": [
    {
     "name": "stdin",
     "output_type": "stream",
     "text": [
      "Enter a number:  246\n"
     ]
    },
    {
     "name": "stdout",
     "output_type": "stream",
     "text": [
      "After 1 time dividing by 3 , Number is: 82.0\n",
      "After 2 times dividing by 3 , Number is: 27.333333333333332\n",
      "After 3 times dividing by 3 , Number is: 9.11111111111111\n",
      "The number can be 3 times divided by 3, before it is less than or equal to 10.\n"
     ]
    }
   ],
   "source": [
    "number = float(input(\"Enter a number: \"))\n",
    "\n",
    "count = 0\n",
    "\n",
    "while number > 10:\n",
    "    number /= 3\n",
    "    count += 1\n",
    "    if count==1:\n",
    "        print(f\"After {count} time dividing by 3 , Number is: {number}\")\n",
    "    else:\n",
    "        print(f\"After {count} times dividing by 3 , Number is: {number}\")\n",
    "\n",
    "print(f\"The number can be {count} times divided by 3, before it is less than or equal to 10.\")\n"
   ]
  },
  {
   "cell_type": "code",
   "execution_count": null,
   "id": "e2e44d15-b7c1-45f0-8c2d-c2eed9335f93",
   "metadata": {},
   "outputs": [],
   "source": []
  },
  {
   "cell_type": "markdown",
   "id": "6d9c55af-af7b-48b7-ba7a-0cec41f7b6bb",
   "metadata": {},
   "source": [
    "Q5. Why and When to Use while Loop in Python give a detailed description with example.\n",
    "\n",
    "Ans: A while loop in Python is used to repeatedly execute a block of code as long as a specified condition is true. It is especially useful when the number of iterations is not known beforehand and you need to continue looping until a certain condition changes. \n",
    "Following is a suitable example to understand the working of While Loop."
   ]
  },
  {
   "cell_type": "code",
   "execution_count": 16,
   "id": "561bd676-67bd-4647-a721-d922fd59b1c3",
   "metadata": {},
   "outputs": [
    {
     "name": "stdin",
     "output_type": "stream",
     "text": [
      "Enter the first number:  56\n",
      "Enter the second number:  17\n"
     ]
    },
    {
     "name": "stdout",
     "output_type": "stream",
     "text": [
      "The GCD of 56 and 17 is: 1\n"
     ]
    }
   ],
   "source": [
    "# Example of using a while loop to find the GCD of two numbers\n",
    "def find_gcd(a, b):\n",
    "    while b != 0:\n",
    "        a, b = b, a % b\n",
    "    return a\n",
    "\n",
    "num1 = int(input(\"Enter the first number: \"))\n",
    "num2 = int(input(\"Enter the second number: \"))\n",
    "\n",
    "gcd = find_gcd(num1, num2)\n",
    "print(f\"The GCD of {num1} and {num2} is: {gcd}\")\n",
    "\n",
    "#Here,the while loop continues until the remainder (b) is zero, at which point a is the GCD."
   ]
  },
  {
   "cell_type": "code",
   "execution_count": null,
   "id": "c8725367-8461-464f-9a2f-3763369086d1",
   "metadata": {},
   "outputs": [],
   "source": []
  },
  {
   "cell_type": "markdown",
   "id": "4a408da7-3ffc-44fc-85cb-020d59aab40d",
   "metadata": {},
   "source": [
    "Q6. Use nested while loop to print 3 different pattern."
   ]
  },
  {
   "cell_type": "code",
   "execution_count": 18,
   "id": "4bdafc8d-c742-4e55-a37a-69451f34af86",
   "metadata": {},
   "outputs": [
    {
     "name": "stdout",
     "output_type": "stream",
     "text": [
      "Pattern 1: Right-Angle Triangle of Stars\n",
      "*\n",
      "**\n",
      "***\n",
      "****\n",
      "*****\n",
      "\n",
      "Pattern 2: Inverted Right-Angle Triangle of Numbers\n",
      "12345\n",
      "1234\n",
      "123\n",
      "12\n",
      "1\n",
      "\n",
      "Pattern 3: Pyramid of Stars\n",
      "    *\n",
      "   ***\n",
      "  *****\n",
      " *******\n",
      "*********\n"
     ]
    }
   ],
   "source": [
    "# Pattern 1: Right-Angle Triangle of Stars\n",
    "print(\"Pattern 1: Right-Angle Triangle of Stars\")\n",
    "rows = 5\n",
    "i = 1\n",
    "while i <= rows:\n",
    "    j = 1\n",
    "    while j <= i:\n",
    "        print(\"*\", end=\"\")\n",
    "        j += 1\n",
    "    print()\n",
    "    i += 1\n",
    "\n",
    "print()  \n",
    "\n",
    "# Pattern 2: Inverted Right-Angle Triangle of Numbers\n",
    "print(\"Pattern 2: Inverted Right-Angle Triangle of Numbers\")\n",
    "rows = 5\n",
    "i = rows\n",
    "while i >= 1:\n",
    "    j = 1\n",
    "    while j <= i:\n",
    "        print(j, end=\"\")\n",
    "        j += 1\n",
    "    print()\n",
    "    i -= 1\n",
    "\n",
    "print()\n",
    "\n",
    "# Pattern 3: Pyramid of Stars\n",
    "print(\"Pattern 3: Pyramid of Stars\")\n",
    "rows = 5\n",
    "i = 1\n",
    "while i <= rows:\n",
    "    \n",
    "    spaces = rows - i\n",
    "    j = 1\n",
    "    while j <= spaces:\n",
    "        print(\" \", end=\"\")\n",
    "        j += 1\n",
    "    \n",
    "    \n",
    "    stars = 2 * i - 1\n",
    "    k = 1\n",
    "    while k <= stars:\n",
    "        print(\"*\", end=\"\")\n",
    "        k += 1\n",
    "    \n",
    "    print()\n",
    "    i += 1\n",
    "\n",
    "#Here, in every pattern , nested while loops are used to print the patterns accordingly."
   ]
  },
  {
   "cell_type": "code",
   "execution_count": null,
   "id": "6f715b80-c3da-4606-afe7-09137c36679c",
   "metadata": {},
   "outputs": [],
   "source": []
  },
  {
   "cell_type": "markdown",
   "id": "9f2417ac-beda-46e6-ad06-78fe41476d89",
   "metadata": {},
   "source": [
    "Q7. Reverse a while loop to display numbers from 10 to 1."
   ]
  },
  {
   "cell_type": "code",
   "execution_count": 20,
   "id": "d22845a2-54bd-4811-8b74-c2027fbfa679",
   "metadata": {},
   "outputs": [
    {
     "name": "stdout",
     "output_type": "stream",
     "text": [
      "10 9 8 7 6 5 4 3 2 1 "
     ]
    }
   ],
   "source": [
    "number = 10\n",
    "\n",
    "while number >= 1:\n",
    "    print(number,end=\" \")\n",
    "    number -= 1"
   ]
  }
 ],
 "metadata": {
  "kernelspec": {
   "display_name": "Python 3 (ipykernel)",
   "language": "python",
   "name": "python3"
  },
  "language_info": {
   "codemirror_mode": {
    "name": "ipython",
    "version": 3
   },
   "file_extension": ".py",
   "mimetype": "text/x-python",
   "name": "python",
   "nbconvert_exporter": "python",
   "pygments_lexer": "ipython3",
   "version": "3.10.8"
  }
 },
 "nbformat": 4,
 "nbformat_minor": 5
}
