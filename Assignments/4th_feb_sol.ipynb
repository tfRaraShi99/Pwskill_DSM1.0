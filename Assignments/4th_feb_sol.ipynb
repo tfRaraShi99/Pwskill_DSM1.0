{
 "cells": [
  {
   "cell_type": "markdown",
   "id": "afff271c-db0f-442f-b539-0c480ceca326",
   "metadata": {},
   "source": [
    "Q1. Create a python program to sort the given list of tuples based on integer value using a \n",
    "lambda function. \n",
    "\n",
    "\n",
    "[('Sachin Tendulkar', 34357), ('Ricky Ponting', 27483), ('Jack Kallis', 25534), ('Virat Kohli', 24936)]"
   ]
  },
  {
   "cell_type": "code",
   "execution_count": 18,
   "id": "392464c4-1ed0-411b-80c3-6352d3d4c8e4",
   "metadata": {},
   "outputs": [
    {
     "data": {
      "text/plain": [
       "[('Virat Kohli', 24936),\n",
       " ('Jack Kallis', 25534),\n",
       " ('Ricky Ponting', 27483),\n",
       " ('Sachin Tendulkar', 34357)]"
      ]
     },
     "execution_count": 18,
     "metadata": {},
     "output_type": "execute_result"
    }
   ],
   "source": [
    "l= [('Sachin Tendulkar', 34357), ('Ricky Ponting', 27483), \n",
    "    ('Jack Kallis', 25534), ('Virat Kohli', 24936)]\n",
    "\n",
    "res=sorted(l,key=lambda x: x[1])\n",
    "res"
   ]
  },
  {
   "cell_type": "code",
   "execution_count": null,
   "id": "34e14984-1c4b-4446-9634-461c3e48e054",
   "metadata": {},
   "outputs": [],
   "source": []
  },
  {
   "cell_type": "markdown",
   "id": "64869699-1614-41a3-bdd2-951d7894728b",
   "metadata": {},
   "source": [
    "Q2. Write a Python Program to find the squares of all the numbers in the given list of integers using lambda and map functions.\n",
    "\n",
    "[1, 2, 3, 4, 5, 6, 7, 8, 9, 10]"
   ]
  },
  {
   "cell_type": "code",
   "execution_count": 19,
   "id": "d115a421-2c2d-4dbf-8804-1015c20a43bb",
   "metadata": {},
   "outputs": [
    {
     "data": {
      "text/plain": [
       "[1, 4, 9, 16, 25, 36, 49, 64, 81, 100]"
      ]
     },
     "execution_count": 19,
     "metadata": {},
     "output_type": "execute_result"
    }
   ],
   "source": [
    "l= [1, 2, 3, 4, 5, 6, 7, 8, 9, 10]\n",
    "\n",
    "res1= list(map(lambda x: x**2, l))\n",
    "res1"
   ]
  },
  {
   "cell_type": "code",
   "execution_count": null,
   "id": "d8d0c057-da4c-4598-981a-12238950391c",
   "metadata": {},
   "outputs": [],
   "source": []
  },
  {
   "cell_type": "markdown",
   "id": "9c5c25d9-08d4-4465-8558-23f9207f5150",
   "metadata": {},
   "source": [
    "Q3. Write a python program to convert the given list of integers into a tuple of strings. Use map and lambda functions\n",
    "\n",
    "Given String: [1, 2, 3, 4, 5, 6, 7, 8, 9, 10]\n",
    "\n",
    "Expected output: ('1', '2', '3', '4', '5', '6', '7', '8', '9', '10')"
   ]
  },
  {
   "cell_type": "code",
   "execution_count": 20,
   "id": "f547d688-1ad5-4659-b7ab-1be02ed0110d",
   "metadata": {},
   "outputs": [
    {
     "data": {
      "text/plain": [
       "('1', '2', '3', '4', '5', '6', '7', '8', '9', '10')"
      ]
     },
     "execution_count": 20,
     "metadata": {},
     "output_type": "execute_result"
    }
   ],
   "source": [
    "l = [1, 2, 3, 4, 5, 6, 7, 8, 9, 10]\n",
    "res2 = tuple(map(lambda x : str(x), l))\n",
    "res2"
   ]
  },
  {
   "cell_type": "code",
   "execution_count": null,
   "id": "db3c3b0a-def7-45b0-b635-590aa1427079",
   "metadata": {},
   "outputs": [],
   "source": []
  },
  {
   "cell_type": "markdown",
   "id": "b3258b2e-7791-41dd-b62e-b7f3a511c5de",
   "metadata": {},
   "source": [
    "Q4.  Write a python program using reduce function to compute the product of a list containing numbers from 1 to 25."
   ]
  },
  {
   "cell_type": "code",
   "execution_count": 21,
   "id": "f760e0bd-ee13-41f1-8706-98b1fd841190",
   "metadata": {},
   "outputs": [
    {
     "data": {
      "text/plain": [
       "15511210043330985984000000"
      ]
     },
     "execution_count": 21,
     "metadata": {},
     "output_type": "execute_result"
    }
   ],
   "source": [
    "from functools import reduce\n",
    "\n",
    "l= list(range(1,26))\n",
    "\n",
    "res3 = reduce(lambda x,y: x*y , l)\n",
    "res3"
   ]
  },
  {
   "cell_type": "code",
   "execution_count": null,
   "id": "b333220b-62c2-447e-8678-18700d57728b",
   "metadata": {},
   "outputs": [],
   "source": []
  },
  {
   "cell_type": "markdown",
   "id": "63d4e9a9-7e91-4daf-81cb-4bde6656550d",
   "metadata": {},
   "source": [
    "Q5. Write a python program to filter the numbers in a given list that are divisible by 2 and 3 using the filter function.\n",
    "\n",
    "[2, 3, 6, 9, 27, 60, 90, 120, 55, 46]"
   ]
  },
  {
   "cell_type": "code",
   "execution_count": 26,
   "id": "3445274b-7af2-4ae3-8432-0c500fcf52f5",
   "metadata": {},
   "outputs": [
    {
     "name": "stdout",
     "output_type": "stream",
     "text": [
      "Numbers divisible by both 2 and 3 are : [6, 60, 90, 120]\n",
      "Numbers divisible by 2 are : [2, 6, 60, 90, 120, 46]\n",
      "Numbers divisible by 3 are : [3, 6, 9, 27, 60, 90, 120]\n"
     ]
    }
   ],
   "source": [
    "l = [2, 3, 6, 9, 27, 60, 90, 120, 55, 46]\n",
    "\n",
    "\n",
    "#divisible by both 2 and 3\n",
    "res_4= list(filter(lambda x : x%2==0 and x%3==0, l))\n",
    "print(f\"Numbers divisible by both 2 and 3 are : {res4}\")\n",
    "\n",
    "#divisible by only 2\n",
    "res_div2= list(filter(lambda x : x%2==0, l))\n",
    "print(f\"Numbers divisible by 2 are : {res_div2}\")\n",
    "\n",
    "#divisible by only 3\n",
    "res_div3= list(filter(lambda x : x%3==0, l))\n",
    "print(f\"Numbers divisible by 3 are : {res_div3}\")"
   ]
  },
  {
   "cell_type": "code",
   "execution_count": null,
   "id": "2c581634-dce1-4663-9f37-87ff2eb64ccd",
   "metadata": {},
   "outputs": [],
   "source": []
  },
  {
   "cell_type": "markdown",
   "id": "16e5f679-ddbc-4811-99f2-b59e988c6ae4",
   "metadata": {},
   "source": [
    "Q6. Write a python program to find palindromes in the given list of strings using lambda and filter \n",
    "function.\n",
    "\n",
    "['python', 'php', 'aba', 'radar', 'level']"
   ]
  },
  {
   "cell_type": "code",
   "execution_count": 28,
   "id": "487a0a62-14b6-4670-adc3-4cdaf63edc93",
   "metadata": {},
   "outputs": [
    {
     "data": {
      "text/plain": [
       "['php', 'aba', 'radar', 'level']"
      ]
     },
     "execution_count": 28,
     "metadata": {},
     "output_type": "execute_result"
    }
   ],
   "source": [
    "l= ['python', 'php', 'aba', 'radar', 'level']\n",
    "def isPalindrome(s):\n",
    "\n",
    "    rev = ''.join(reversed(s))\n",
    "    if (s == rev):\n",
    "        return True\n",
    "    return False\n",
    "res5= list(filter(lambda x: isPalindrome(x),l))\n",
    "res5"
   ]
  },
  {
   "cell_type": "code",
   "execution_count": null,
   "id": "c47f56a2-232c-4e97-800d-8f71ee65b200",
   "metadata": {},
   "outputs": [],
   "source": []
  }
 ],
 "metadata": {
  "kernelspec": {
   "display_name": "Python 3 (ipykernel)",
   "language": "python",
   "name": "python3"
  },
  "language_info": {
   "codemirror_mode": {
    "name": "ipython",
    "version": 3
   },
   "file_extension": ".py",
   "mimetype": "text/x-python",
   "name": "python",
   "nbconvert_exporter": "python",
   "pygments_lexer": "ipython3",
   "version": "3.10.8"
  }
 },
 "nbformat": 4,
 "nbformat_minor": 5
}
