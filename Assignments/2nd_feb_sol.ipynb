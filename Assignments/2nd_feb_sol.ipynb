{
 "cells": [
  {
   "cell_type": "markdown",
   "id": "7b18a729-632c-4439-86bc-24c28ef4e50b",
   "metadata": {},
   "source": [
    "Q1. What are the characteristics of the tuples? Is tuple immutable?\n",
    "\n",
    "Ans:\n",
    "(i) The Characteristics of tuples are:\n",
    "    \n",
    "    1. tuples are ordered sequences of elements and this order can't be changed. \n",
    "    2. tupless are immutable and thus they can't be modified.\n",
    "    3. tuples can be indexed i.e, each element can be accessed using a unique index.\n",
    "    4. tuples can contain heterogeneous data elements including strings, integers, or even duplicates.\n",
    "    5. tuples can be nested i.e., containing other tuples as elements.\n",
    "    \n",
    "(ii) Yes tuples are immutable.\n",
    "\n",
    "    Because they are designed to be lightweight and efficient .This makes tuples ideal for usage as keys in dictionaries, since a dictionary key must be hashable and immutable. Also tuples are used as a data structure that cannot be modified."
   ]
  },
  {
   "cell_type": "code",
   "execution_count": null,
   "id": "1b9d4683-9090-46b7-9862-b86cae740387",
   "metadata": {},
   "outputs": [],
   "source": []
  },
  {
   "cell_type": "markdown",
   "id": "dad4c7d2-05a1-45ca-b9af-36c81c5e433d",
   "metadata": {},
   "source": [
    "Q2. What are the two tuple methods in python? Give an example of each method. Give a reason why \n",
    "tuples have only two in-built methods as compared to Lists.\n",
    "\n",
    "Ans: \n",
    "(i) The two tuple methods in Python are :\n",
    "        \n",
    "        1. Index Function\n",
    "        2. Count Function\n",
    "(iii)Tuples have fewer built-in methods as compared to lists.\n",
    "\n",
    "    It is mainly because of their immutability. Tuples are immutable, meaning their content cannot be changed once created. So, methods like append(),insert(), or remove can't be applied."
   ]
  },
  {
   "cell_type": "code",
   "execution_count": 3,
   "id": "58cf8c32-d82b-4f3f-8064-ef1f1e85f69c",
   "metadata": {},
   "outputs": [
    {
     "name": "stdout",
     "output_type": "stream",
     "text": [
      "The given tuple T1 is : (1, 2, 4, 4, 45, 45.45, (45+7j), 67, True)\n",
      "\n",
      "\n",
      "index of 45.45 in T1 is: 5\n",
      "index of 67 in T1 is: 7\n",
      "\n",
      "\n",
      "count of abc in T1 is: 0\n",
      "count of 4 in T1 is: 2\n"
     ]
    }
   ],
   "source": [
    "\"\"\"\n",
    "(ii) An example of each of the tuple method \n",
    "\"\"\"\n",
    "T1 = (1,2,4,4,45,45.45,45+7j,67,True)\n",
    "print(f\"The given tuple T1 is : {T1}\")\n",
    "print(\"\\n\")\n",
    "\n",
    "#index function\n",
    "id1= T1.index(45.45)\n",
    "print(f\"index of 45.45 in T1 is: {id1}\")\n",
    "id2= T1.index(67)\n",
    "print(f\"index of 67 in T1 is: {id2}\")\n",
    "print(\"\\n\")\n",
    "#Count Function\n",
    "ct= T1.count(\"abc\")\n",
    "print(f\"count of abc in T1 is: {ct}\")\n",
    "ct2 = T1.count(4)\n",
    "print(f\"count of 4 in T1 is: {ct2}\")\n"
   ]
  },
  {
   "cell_type": "code",
   "execution_count": null,
   "id": "f5434fec-2143-42d6-aa42-9579bb5c3836",
   "metadata": {},
   "outputs": [],
   "source": []
  },
  {
   "cell_type": "markdown",
   "id": "8df7e7b5-b309-44dc-bb3f-3127c4907e2e",
   "metadata": {},
   "source": [
    "Q3. Which collection datatypes in python do not allow duplicate items? Write a code using a set to remove \n",
    "duplicates from the given list.\n",
    "\n",
    "Ans: \n",
    "(i) Sets in python doesn't allow duplicate items.\n"
   ]
  },
  {
   "cell_type": "code",
   "execution_count": 7,
   "id": "f5e46a52-4758-4450-9da0-11472d9d5fbf",
   "metadata": {},
   "outputs": [
    {
     "name": "stdout",
     "output_type": "stream",
     "text": [
      "Before removing duplicates : [1, 1, 1, 2, 1, 3, 1, 4, 2, 1, 2, 2, 2, 3, 2, 4, 3, 1, 3, 2, 3, 3, 3, 4, 4, 1, 4, 2, 4, 3, 4, 4]\n",
      "After removing duplicates : [1, 2, 3, 4]\n"
     ]
    }
   ],
   "source": [
    "\"\"\"\n",
    "(ii) Below is the code to remove duplicates from a given list using set. \n",
    "\"\"\"\n",
    "List = [1, 1, 1, 2, 1, 3, 1, 4, 2, 1, 2, 2, 2, 3, 2, 4, 3, 1, 3, 2, 3, 3, 3, 4, 4, 1, 4, 2, 4, 3, 4, 4]\n",
    "print(f\"Before removing duplicates : {List}\")\n",
    "Set1 = list(set (List))\n",
    "print(f\"After removing duplicates : {Set1}\")"
   ]
  },
  {
   "cell_type": "code",
   "execution_count": null,
   "id": "78ef6e5f-11a9-409b-b4e0-a4c1e43431f6",
   "metadata": {},
   "outputs": [],
   "source": []
  },
  {
   "cell_type": "markdown",
   "id": "55f87239-2fa5-474b-b2b1-387ffefadf91",
   "metadata": {},
   "source": [
    "Q4. Explain the difference between the union() and update() methods for a set. Give an example of \n",
    "each method.\n",
    "\n",
    "Ans: The main difference between union and update is:\n",
    "union() returns a new set that contains all the elements from both sets, while update() modifies one of the sets to include all the elements from both sets i.e., its a inplace operation."
   ]
  },
  {
   "cell_type": "code",
   "execution_count": 14,
   "id": "6311ef15-d76b-4dfa-8d84-ea4d74e46077",
   "metadata": {},
   "outputs": [
    {
     "name": "stdout",
     "output_type": "stream",
     "text": [
      "using update function {1, 2, 3, 4, 5}\n",
      "using union function {1, 2, 3, 4, 5}\n"
     ]
    }
   ],
   "source": [
    "s1 = {1,2,3,4}\n",
    "s2={4,5}\n",
    "\n",
    "s1.update(s2)\n",
    "print(f\"using update function {s1}\")\n",
    "\n",
    "s3 = {1,2,3,4}\n",
    "s4={4,5}\n",
    "\n",
    "print(f\"using union function {s3.union(s2)}\")\n",
    "\n"
   ]
  },
  {
   "cell_type": "code",
   "execution_count": null,
   "id": "d7c07111-41aa-4118-b22e-819be52e16a0",
   "metadata": {},
   "outputs": [],
   "source": []
  },
  {
   "cell_type": "markdown",
   "id": "4a15239d-8722-4b18-828a-9248d34682ff",
   "metadata": {},
   "source": [
    "Q5. What is a dictionary? Give an example. Also, state whether a dictionary is ordered or unordered.\n",
    "\n",
    "Ans: Dictionary is a data structure that stores the value in key:value format. \n",
    "For e.g.,\n",
    "Dict1 = { \"Apple\": 1 , \"Banana\": 5 , \"Orange\": 7, \"Papaya\":2}\n",
    "\n",
    "A dictionary is ordered as of python 3.7 version. Dictionary is an implementation of the hash table, which is traditionally an unordered data structure. But as a side effect of the compact dictionary implementation in Python 3.6, dictionaries started to conserve insertion order. Thus from Python 3.7, that insertion order has been guaranteed.\n",
    "\n"
   ]
  },
  {
   "cell_type": "code",
   "execution_count": null,
   "id": "c4eea50b-d7f0-4b88-9ab5-a3ed6cfa3086",
   "metadata": {},
   "outputs": [],
   "source": []
  },
  {
   "cell_type": "markdown",
   "id": "24ac7e33-fe53-4bf4-855e-2a0b491494ba",
   "metadata": {},
   "source": [
    "Q6. Can we create a nested dictionary? If so, please give an example by creating a simple one-level \n",
    "nested dictionary.\n",
    "\n",
    "Ans: Yes, we camn create a nested dictionary. For e.g., \n",
    "dict1 = { \"subdict\": {\"key1\":\"value1\", \"key2\":\"value2\"} , \n",
    "            \"subdict2\":{\"key3\":\"value3\", \"key4\":\"value4\"},\n",
    "             \"subdict3\":{\"key5\":\"value5\", \"key6\":\"value6\"} }\n",
    "             \n",
    "Here, dict1 is a dictionary containing the nested dictionaries \"subdict1\", \"subdict2\", \"subdict3\"."
   ]
  },
  {
   "cell_type": "code",
   "execution_count": 13,
   "id": "10475791-cffa-4558-90e3-83a8083d816d",
   "metadata": {},
   "outputs": [
    {
     "name": "stdout",
     "output_type": "stream",
     "text": [
      "<class 'dict'>\n",
      "<class 'dict'>\n"
     ]
    }
   ],
   "source": [
    "dict1 = { \"subdict1\": {\"key1\":\"value1\", \"key2\":\"value2\"} , \n",
    "            \"subdict2\":{\"key3\":\"value3\", \"key4\":\"value4\"} ,\n",
    "             \"subdict3\":{\"key5\":\"value5\", \"key6\":\"value6\"} }\n",
    "\n",
    "print(type(dict1))\n",
    "print(type(dict1[\"subdict1\"]))"
   ]
  },
  {
   "cell_type": "code",
   "execution_count": null,
   "id": "91ee59f8-a938-435b-a62f-a4bb1df30382",
   "metadata": {},
   "outputs": [],
   "source": []
  },
  {
   "cell_type": "markdown",
   "id": "5a93686b-8670-48da-9b3e-7da5784eb29d",
   "metadata": {},
   "source": [
    "Q7. Using setdefault() method, create key named topics in the given dictionary and also add the value of \n",
    "the key as this following list. \n",
    "list1=  ['Python', 'Machine Learning’, 'Deep Learning']\n",
    "dict1 = {'language' : 'Python', 'course': 'Data Science Masters'}\n"
   ]
  },
  {
   "cell_type": "code",
   "execution_count": 18,
   "id": "b6635508-75dc-44ba-b71b-73b3f1ae3316",
   "metadata": {},
   "outputs": [
    {
     "data": {
      "text/plain": [
       "{'language': 'Python',\n",
       " 'course': 'Data Science Masters',\n",
       " 'topics': ['Python', 'Machine Learning', 'Deep Learning']}"
      ]
     },
     "execution_count": 18,
     "metadata": {},
     "output_type": "execute_result"
    }
   ],
   "source": [
    "list1=  ['Python', 'Machine Learning' , 'Deep Learning' ]\n",
    "dict1 = {'language' : 'Python', 'course': 'Data Science Masters'}\n",
    "         \n",
    "temp = dict1.setdefault(\"topics\" ,list1)\n",
    "dict1"
   ]
  },
  {
   "cell_type": "code",
   "execution_count": null,
   "id": "e63836d7-458b-484c-9978-0b1384c6b3dd",
   "metadata": {},
   "outputs": [],
   "source": []
  },
  {
   "cell_type": "markdown",
   "id": "8c683d24-ba04-4a0c-ba7b-50054aa42506",
   "metadata": {},
   "source": [
    "Q8. What are the three view objects in dictionaries? Use the three in-built methods in python to display \n",
    "these three view objects for the given dictionary.\n",
    "\n",
    "dict1 = {'Sport': 'Cricket' , 'Teams': ['India', 'Australia', 'England', 'South Africa', 'Sri Lanka', 'New Zealand']}\n",
    "\n",
    "Ans: The main three view objects in dictionaries are:\n",
    " - keys() — shows us all the keys of a given dictionary, as a sequence.\n",
    " - values() — shows us all values of a dictionary, as a sequence.\n",
    " - items() — shows us all the key-value pairs of a dictionary, once again as a sequence.\n",
    " "
   ]
  },
  {
   "cell_type": "code",
   "execution_count": 21,
   "id": "770b0638-922b-436b-9a43-e2eda8b64e4d",
   "metadata": {},
   "outputs": [
    {
     "name": "stdout",
     "output_type": "stream",
     "text": [
      "Given dictionary is: \n",
      "{'Sport': 'Cricket', 'Teams': ['India', 'Australia', 'England', 'South Africa', 'Sri Lanka', 'New Zealand']}\n",
      "\n",
      "keys are: \n",
      "dict_keys(['Sport', 'Teams'])\n",
      "\n",
      "values are: \n",
      "dict_values(['Cricket', ['India', 'Australia', 'England', 'South Africa', 'Sri Lanka', 'New Zealand']])\n",
      "\n",
      "items are: \n",
      "dict_items([('Sport', 'Cricket'), ('Teams', ['India', 'Australia', 'England', 'South Africa', 'Sri Lanka', 'New Zealand'])])\n",
      "\n"
     ]
    }
   ],
   "source": [
    "dict1 = {'Sport': 'Cricket' , 'Teams': ['India', 'Australia', 'England', 'South Africa', 'Sri Lanka', 'New Zealand']}\n",
    "\n",
    "k= dict1.keys()\n",
    "v=dict1.values()\n",
    "i=dict1.items()\n",
    "\n",
    "print(f\"Given dictionary is: \\n{dict1}\\n\")\n",
    "print(f\"keys are: \\n{k}\\n\")\n",
    "print(f\"values are: \\n{v}\\n\")\n",
    "print(f\"items are: \\n{i}\\n\")"
   ]
  }
 ],
 "metadata": {
  "kernelspec": {
   "display_name": "Python 3 (ipykernel)",
   "language": "python",
   "name": "python3"
  },
  "language_info": {
   "codemirror_mode": {
    "name": "ipython",
    "version": 3
   },
   "file_extension": ".py",
   "mimetype": "text/x-python",
   "name": "python",
   "nbconvert_exporter": "python",
   "pygments_lexer": "ipython3",
   "version": "3.10.8"
  }
 },
 "nbformat": 4,
 "nbformat_minor": 5
}
