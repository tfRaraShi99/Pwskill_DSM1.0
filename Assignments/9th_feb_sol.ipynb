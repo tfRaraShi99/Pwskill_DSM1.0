{
 "cells": [
  {
   "cell_type": "markdown",
   "id": "bf7e1652-a23f-4e1a-aca4-85ce915929e0",
   "metadata": {},
   "source": [
    "Q1. Create a vehicle class with an init method having instance variables as name_of_vehicle, max_speed \n",
    "and average_of_vehicle. "
   ]
  },
  {
   "cell_type": "code",
   "execution_count": 1,
   "id": "0dca90b2-e7d8-4986-a3cb-c5a5f71b1b68",
   "metadata": {},
   "outputs": [
    {
     "name": "stdout",
     "output_type": "stream",
     "text": [
      "Vehicle Name: Rolls Royce Ghost\n",
      "Max Speed: 250 km/h\n",
      "Average: 14.4 km/l\n"
     ]
    }
   ],
   "source": [
    "class Vehicle:\n",
    "    def __init__(self, name_of_vehicle, max_speed, average_of_vehicle):\n",
    "        self.name_of_vehicle = name_of_vehicle\n",
    "        self.max_speed = max_speed\n",
    "        self.average_of_vehicle = average_of_vehicle\n",
    "\n",
    "car = Vehicle(\"Rolls Royce Ghost\", 250, 14.4)\n",
    "print(f\"Vehicle Name: {car.name_of_vehicle}\")\n",
    "print(f\"Max Speed: {car.max_speed} km/h\")\n",
    "print(f\"Average: {car.average_of_vehicle} km/l\")\n"
   ]
  },
  {
   "cell_type": "code",
   "execution_count": null,
   "id": "dfa3d680-4d61-468b-8ba5-8f1788e213de",
   "metadata": {},
   "outputs": [],
   "source": []
  },
  {
   "cell_type": "markdown",
   "id": "6e4c7564-053e-4681-88b7-5eb978330511",
   "metadata": {},
   "source": [
    "Q2.  Create a child class car from the vehicle class created in Qus 1, which will inherit the vehicle class. \n",
    "Create a method named seating_capacity which takes capacity as an argument and returns the name of \n",
    "the vehicle and its seating capacity."
   ]
  },
  {
   "cell_type": "code",
   "execution_count": 2,
   "id": "efd1daa0-12ed-48f1-9bc9-2928ef5a0bae",
   "metadata": {},
   "outputs": [
    {
     "name": "stdout",
     "output_type": "stream",
     "text": [
      "Toyota Camry has a seating capacity of 5 people.\n"
     ]
    }
   ],
   "source": [
    "class Car(Vehicle):\n",
    "    def seating_capacity(self, capacity):\n",
    "        return f\"{self.name_of_vehicle} has a seating capacity of {capacity} people.\"\n",
    "\n",
    "my_car = Car(\"Toyota Camry\", 200, 15)\n",
    "print(my_car.seating_capacity(5))"
   ]
  },
  {
   "cell_type": "code",
   "execution_count": null,
   "id": "f00e791e-1bb0-46c0-b770-da7ca5f484fb",
   "metadata": {},
   "outputs": [],
   "source": []
  },
  {
   "cell_type": "markdown",
   "id": "f319b1fc-8a77-4593-bffd-c7ad7b972405",
   "metadata": {},
   "source": [
    "Q3. What is multiple inheritance? Write a python code to demonstrate multiple inheritance.\n",
    "\n",
    "Ans: Multiple inheritance is a feature in object-oriented programming where a class can inherit attributes and methods from more than one parent class. This allows a class to combine and utilize functionalities from multiple classes."
   ]
  },
  {
   "cell_type": "code",
   "execution_count": 17,
   "id": "d3afa305-ddb6-4048-8496-103584cb8e8d",
   "metadata": {},
   "outputs": [
    {
     "name": "stdout",
     "output_type": "stream",
     "text": [
      "Car Name: Toyota Camry\n",
      "Max Speed: 200 km/h\n",
      "Average: 15 km/l\n",
      "Engine Type: V6\n",
      "Transmission Type: Automatic"
     ]
    }
   ],
   "source": [
    "class Vehicle:\n",
    "    def __init__(self, name_of_vehicle, max_speed, average_of_vehicle):\n",
    "        self.name_of_vehicle = name_of_vehicle\n",
    "        self.max_speed = max_speed\n",
    "        self.average_of_vehicle = average_of_vehicle\n",
    "        \n",
    "class Engine:\n",
    "    def __init__(self, engine_type):\n",
    "        self.engine_type = engine_type\n",
    "\n",
    "    def show_engine(self):\n",
    "        return f\"Engine Type: {self.engine_type}\"\n",
    "\n",
    "class Transmission:\n",
    "    def __init__(self, transmission_type):\n",
    "        self.transmission_type = transmission_type\n",
    "\n",
    "    def show_transmission(self):\n",
    "        return f\"Transmission Type: {self.transmission_type}\"\n",
    "\n",
    "\n",
    "class Car(Vehicle, Engine, Transmission):\n",
    "    \n",
    "    def __init__(self, name_of_vehicle, max_speed, average_of_vehicle, engine_type, transmission_type):\n",
    "        Vehicle.__init__(self, name_of_vehicle, max_speed, average_of_vehicle)\n",
    "        Engine.__init__(self, engine_type)\n",
    "        Transmission.__init__(self, transmission_type)\n",
    "\n",
    "    def show_details(self):\n",
    "        return (f\"Car Name: {self.name_of_vehicle}\\nMax Speed: {self.max_speed} km/h\\n\"\n",
    "                f\"Average: {self.average_of_vehicle} km/l\\n{self.show_engine()}\\n{self.show_transmission()}\")\n",
    "\n",
    "\n",
    "my_car = Car(\"Toyota Camry\", 200, 15, \"V6\", \"Automatic\")\n",
    "print(my_car.show_details(), end=\"\")\n"
   ]
  },
  {
   "cell_type": "code",
   "execution_count": null,
   "id": "80f9ab0c-6593-4563-9e2e-ea1cd6e55702",
   "metadata": {},
   "outputs": [],
   "source": []
  },
  {
   "cell_type": "markdown",
   "id": "3722a6a7-a4e0-4bb8-b767-07ba236323d8",
   "metadata": {},
   "source": [
    "Q4. What are getter and setter in python? Create a class and create a getter and a setter method in this \n",
    "class.\n",
    "\n",
    "Ans: \n",
    "Getters and setters are methods used to access and update the private attributes of a class, respectively. These methods help in encapsulating the data and ensuring controlled access to the attributes. In Python, getters and setters are typically implemented using the @property decorator."
   ]
  },
  {
   "cell_type": "code",
   "execution_count": 18,
   "id": "6fda279a-c095-455a-a0b4-79ecfa15511a",
   "metadata": {},
   "outputs": [
    {
     "name": "stdout",
     "output_type": "stream",
     "text": [
      "Name: John Doe, Age: 30\n",
      "Updated Name: Jane Doe, Updated Age: 32\n",
      "Name must be a non-empty string\n",
      "Age must be a positive integer\n"
     ]
    }
   ],
   "source": [
    "class Person:\n",
    "    def __init__(self, name, age):\n",
    "        self._name = name  \n",
    "        self._age = age\n",
    "\n",
    "    @property\n",
    "    def name(self):\n",
    "        return self._name\n",
    "\n",
    "    @name.setter\n",
    "    def name(self, value):\n",
    "        if isinstance(value, str) and value.strip():\n",
    "            self._name = value\n",
    "        else:\n",
    "            raise ValueError(\"Name must be a non-empty string\")\n",
    "\n",
    "    @property\n",
    "    def age(self):\n",
    "        return self._age\n",
    "\n",
    "    @age.setter\n",
    "    def age(self, value):\n",
    "        if isinstance(value, int) and value > 0:\n",
    "            self._age = value\n",
    "        else:\n",
    "            raise ValueError(\"Age must be a positive integer\")\n",
    "\n",
    "\n",
    "person = Person(\"John Doe\", 30)\n",
    "print(f\"Name: {person.name}, Age: {person.age}\")\n",
    "\n",
    "person.name = \"Jane Doe\"  \n",
    "person.age = 32          \n",
    "print(f\"Updated Name: {person.name}, Updated Age: {person.age}\")\n",
    "\n",
    "\n",
    "try:\n",
    "    person.name = \"\"  \n",
    "except ValueError as e:\n",
    "    print(e)\n",
    "\n",
    "try:\n",
    "    person.age = -5  \n",
    "except ValueError as e:\n",
    "    print(e)\n"
   ]
  },
  {
   "cell_type": "code",
   "execution_count": null,
   "id": "02caf4ef-751b-47ec-b320-25beafa86719",
   "metadata": {},
   "outputs": [],
   "source": []
  },
  {
   "cell_type": "markdown",
   "id": "714f96dc-3eb6-498d-b34f-3d27acf28b00",
   "metadata": {},
   "source": [
    "Q5.What is method overriding in python? Write a python code to demonstrate method overriding.\n",
    "\n",
    "Ans:\n",
    "Method overriding occurs when a subclass provides a specific implementation for a method that is already defined in its superclass. The subclass's method takes precedence over the superclass's method when called on an instance of the subclass."
   ]
  },
  {
   "cell_type": "code",
   "execution_count": 19,
   "id": "3a08861f-08ac-4cb8-bbdd-67369373f9e5",
   "metadata": {},
   "outputs": [
    {
     "name": "stdout",
     "output_type": "stream",
     "text": [
      "Animal sound: Some generic animal sound\n",
      "Dog sound: Bark\n",
      "Cat sound: Meow\n"
     ]
    }
   ],
   "source": [
    "class Animal:\n",
    "    def sound(self):\n",
    "        return \"Some generic animal sound\"\n",
    "\n",
    "class Dog(Animal):\n",
    "    def sound(self):\n",
    "        return \"Bark\"\n",
    "\n",
    "class Cat(Animal):\n",
    "    def sound(self):\n",
    "        return \"Meow\"\n",
    "\n",
    "# Example usage\n",
    "generic_animal = Animal()\n",
    "dog = Dog()\n",
    "cat = Cat()\n",
    "\n",
    "print(f\"Animal sound: {generic_animal.sound()}\")\n",
    "print(f\"Dog sound: {dog.sound()}\")\n",
    "print(f\"Cat sound: {cat.sound()}\")\n"
   ]
  }
 ],
 "metadata": {
  "kernelspec": {
   "display_name": "Python 3 (ipykernel)",
   "language": "python",
   "name": "python3"
  },
  "language_info": {
   "codemirror_mode": {
    "name": "ipython",
    "version": 3
   },
   "file_extension": ".py",
   "mimetype": "text/x-python",
   "name": "python",
   "nbconvert_exporter": "python",
   "pygments_lexer": "ipython3",
   "version": "3.10.8"
  }
 },
 "nbformat": 4,
 "nbformat_minor": 5
}
