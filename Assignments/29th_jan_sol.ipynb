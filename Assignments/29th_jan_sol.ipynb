{
 "cells": [
  {
   "cell_type": "markdown",
   "id": "aa083138-53dc-42fa-af23-a13af90d4876",
   "metadata": {},
   "source": [
    "Q1. Who developed Python Programming language?\n",
    "\n",
    "Ans: Python Programmming language was developed by Guido van Rossum and it was first released in 1991.\n"
   ]
  },
  {
   "cell_type": "code",
   "execution_count": null,
   "id": "b5c9d243-afde-465d-9334-92d9fd1c7917",
   "metadata": {},
   "outputs": [],
   "source": []
  },
  {
   "cell_type": "markdown",
   "id": "a57e65cf-ad4f-4e07-8dc7-b5c39b8a9680",
   "metadata": {},
   "source": [
    "Q2. Which type of Programming does Python support?\n",
    "\n",
    "Ans: Python supports multiple programming paradigms, including procedural, object-oriented, and functional programming.\n",
    "\n"
   ]
  },
  {
   "cell_type": "code",
   "execution_count": null,
   "id": "1f8cf21f-8deb-4e03-a73b-00204cce3464",
   "metadata": {},
   "outputs": [],
   "source": []
  },
  {
   "cell_type": "markdown",
   "id": "11d3af40-8659-4e93-86cf-7329f116b611",
   "metadata": {},
   "source": [
    "Q3. Is Python case sensitive when dealing with identifiers?\n",
    "\n",
    "Ans: Yes, Python is case sensitive when dealing with identifiers. For example, Variable and variable would be treated as two different identifiers.\n",
    "\n"
   ]
  },
  {
   "cell_type": "code",
   "execution_count": null,
   "id": "68fd763b-4354-4a3f-9037-07dde505e1b5",
   "metadata": {},
   "outputs": [],
   "source": []
  },
  {
   "cell_type": "markdown",
   "id": "04ad477f-76e5-4c18-af1a-6246c55a581f",
   "metadata": {},
   "source": [
    "Q4. What is the correct extension of the Python file?\n",
    "\n",
    "Ans: The correct extension for a Python file is '.py' .\n"
   ]
  },
  {
   "cell_type": "code",
   "execution_count": null,
   "id": "5e62fb8c-9698-4c76-91d4-ec883d3f82df",
   "metadata": {},
   "outputs": [],
   "source": []
  },
  {
   "cell_type": "markdown",
   "id": "96f90fbe-140d-4783-a0e8-5b4cb7b9bc89",
   "metadata": {},
   "source": [
    "Q5. Is Python code compiled or interpreted?\n",
    "\n",
    "Ans: Python is an interpreted language, which means the code is executed line by line by the Python interpreter.\n"
   ]
  },
  {
   "cell_type": "code",
   "execution_count": null,
   "id": "12d36336-46fd-496a-994f-5f27319eddf4",
   "metadata": {},
   "outputs": [],
   "source": []
  },
  {
   "cell_type": "markdown",
   "id": "0406bf17-02f5-497d-b800-03d8e712e322",
   "metadata": {},
   "source": [
    "Q6. Name a few blocks of code used to define in Python language?\n",
    "\n",
    "Ans: Blocks of code in Python are defined using functions, classes, loops (for, while), and conditional statements (if, elif, else).\n",
    "\n"
   ]
  },
  {
   "cell_type": "code",
   "execution_count": null,
   "id": "169dc79c-9dbe-4943-b89e-cadb58a1b754",
   "metadata": {},
   "outputs": [],
   "source": []
  },
  {
   "cell_type": "markdown",
   "id": "3efc0200-5836-4693-8cf1-15512f66d6dc",
   "metadata": {},
   "source": [
    "Q7. State a character used to give single-line comments in Python?\n",
    "\n",
    "Ans: The character used for single-line comments in Python is the hash symbol (#).\n"
   ]
  },
  {
   "cell_type": "code",
   "execution_count": null,
   "id": "61e7aefb-beb7-4fbb-a731-2094e6f55d9e",
   "metadata": {},
   "outputs": [],
   "source": []
  },
  {
   "cell_type": "markdown",
   "id": "da56209f-9c2f-4043-bf4c-e5d803851e00",
   "metadata": {},
   "source": [
    "Q8. Mention functions which can help us to find the version of python that we are currently working on?\n",
    "\n",
    "Ans: The functions to find the Python version are sys.version and platform.python_version(). One can also use the command \n",
    "python --version or python -V in the command line.\n"
   ]
  },
  {
   "cell_type": "code",
   "execution_count": null,
   "id": "a24a5ea1-cf55-4209-9834-389a8314f8af",
   "metadata": {},
   "outputs": [],
   "source": []
  },
  {
   "cell_type": "markdown",
   "id": "8f72e4f4-8fcd-421f-ab02-e16101cfeed3",
   "metadata": {},
   "source": [
    "Q9. Python supports the creation of anonymous functions at runtime, using a construct called _____________.\n",
    "\n",
    "Ans: Python supports the creation of anonymous functions at runtime using a construct called lambda.\n",
    "\n"
   ]
  },
  {
   "cell_type": "code",
   "execution_count": null,
   "id": "69ab2bc5-377b-4c5e-ad80-76bd46e0b559",
   "metadata": {},
   "outputs": [],
   "source": []
  },
  {
   "cell_type": "markdown",
   "id": "e64fdb7d-32c7-4c82-bb26-aaac958bdeb6",
   "metadata": {},
   "source": [
    "Q10. What does pip stand for python?\n",
    "\n",
    "Ans: 'pip' stands for \"Pip Installs Packages\" or \"Pip Installs Python\".\n",
    "\n"
   ]
  },
  {
   "cell_type": "code",
   "execution_count": null,
   "id": "301489d2-9127-4163-958b-80bcecbab0e5",
   "metadata": {},
   "outputs": [],
   "source": []
  },
  {
   "cell_type": "markdown",
   "id": "6c2d0627-e700-4cfb-839b-de6f15448db3",
   "metadata": {},
   "source": [
    "Q11. Mention a few built-in functions in python?\n",
    "\n",
    "Ans: A few built-in functions in Python include print(), len(), range(), type(), int(), str(), sum(), max(), min(), abs(), list(), dict(), and set()."
   ]
  },
  {
   "cell_type": "code",
   "execution_count": null,
   "id": "282326c9-369b-4f04-8980-ef6d1076846e",
   "metadata": {},
   "outputs": [],
   "source": []
  },
  {
   "cell_type": "markdown",
   "id": "fad97516-f2bf-48d4-aa34-47c501c11860",
   "metadata": {},
   "source": [
    "Q12. What is the maximum possible length of an identifier in Python?\n",
    "\n",
    "Ans: There is no explicit maximum length for an identifier in Python. However, it is advisable to keep it under 79 characters for readability.\n"
   ]
  },
  {
   "cell_type": "code",
   "execution_count": null,
   "id": "801e40a7-8725-46ed-8d29-b4dafed984d9",
   "metadata": {},
   "outputs": [],
   "source": []
  },
  {
   "cell_type": "markdown",
   "id": "093a7814-ede4-4d5d-8d3b-5ed3294cc185",
   "metadata": {},
   "source": [
    "Q13. What are the benefits of using Python?\n",
    "\n",
    "Ans: Benefits of using Python include:\n",
    "    \n",
    "    1. Easy to read and write syntax, making it beginner-friendly.\n",
    "    2. Extensive standard library and a large ecosystem of third-party packages.\n",
    "    3. Versatility, as it supports multiple programming paradigms.\n",
    "    4. Strong community support.\n",
    "    5. Portability across different platforms.\n",
    "    6. Robust frameworks for web development, data analysis, artificial intelligence, scientific computing, etc.\n"
   ]
  },
  {
   "cell_type": "code",
   "execution_count": null,
   "id": "1d8d064e-1abf-4747-a30a-e6dbbd8bd496",
   "metadata": {},
   "outputs": [],
   "source": []
  },
  {
   "cell_type": "markdown",
   "id": "e9c847ac-db7a-483b-8749-07a3c07de6eb",
   "metadata": {},
   "source": [
    "Q14. How is memory managed in Python?\n",
    "\n",
    "Ans: Memory management in Python is handled by the Python Memory Manager. It includes a private heap containing all Python objects and data structures. The management of this private heap is ensured internally by the Python memory manager. Additionally, Python has built-in garbage collection to recycle the memory that is no longer in use."
   ]
  },
  {
   "cell_type": "code",
   "execution_count": null,
   "id": "057cd5bd-27c0-4805-a54d-29341ab9a143",
   "metadata": {},
   "outputs": [],
   "source": []
  },
  {
   "cell_type": "markdown",
   "id": "09d8b81f-6f77-4ccd-94f1-ba0106b1944d",
   "metadata": {},
   "source": [
    "Q15. How to install Python on Windows and set path variables?\n",
    "\n",
    "Ans: \n",
    " * To install Python on Windows:\n",
    "    1. Download the Python installer from the official Python website.\n",
    "    2. Run the installer and follow the installation steps. Make sure to check the box that says \"Add Python to PATH\" before clicking \"Install Now\".\n",
    "    3. After installation,verify it by opening Command Prompt and typing python --version to see if it returns the Python version.\n",
    " * If the PATH is not set during installation, you can manually set it by:\n",
    "    1. Right-clicking on 'This PC' or 'Computer' on the desktop or File Explorer, and selecting 'Properties'.\n",
    "    2. Clicking on 'Advanced system settings', then 'Environment Variables'.\n",
    "    3. In the 'System variables' section, find the variable named Path, select it, and click 'Edit'.\n",
    "    4. Click 'New' and add the path to the Python installation directory (e.g., C:\\Python39\\ or C:\\Users\\<YourUsername>\\AppData\\Local\\Programs\\Python\\Python39\\)."
   ]
  },
  {
   "cell_type": "code",
   "execution_count": null,
   "id": "0fdf53d7-0d91-4424-9057-35dcd15be315",
   "metadata": {},
   "outputs": [],
   "source": []
  },
  {
   "cell_type": "markdown",
   "id": "27992fc9-bfea-442d-b24f-ddea5b6195b1",
   "metadata": {},
   "source": [
    "Q16. Is indentation required in python?\n",
    "\n",
    "Ans: Yes, indentation is required in Python. It is used to define the blocks of code. Consistent indentation is crucial because it directly affects the execution of the code."
   ]
  }
 ],
 "metadata": {
  "kernelspec": {
   "display_name": "Python 3 (ipykernel)",
   "language": "python",
   "name": "python3"
  },
  "language_info": {
   "codemirror_mode": {
    "name": "ipython",
    "version": 3
   },
   "file_extension": ".py",
   "mimetype": "text/x-python",
   "name": "python",
   "nbconvert_exporter": "python",
   "pygments_lexer": "ipython3",
   "version": "3.10.8"
  }
 },
 "nbformat": 4,
 "nbformat_minor": 5
}
