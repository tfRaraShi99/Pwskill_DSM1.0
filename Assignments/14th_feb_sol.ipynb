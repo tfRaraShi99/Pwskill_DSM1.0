{
 "cells": [
  {
   "cell_type": "markdown",
   "metadata": {},
   "source": [
    "Q1. What is multithreading in python? Why is it used? Name the module used to handle threads in python.\n",
    "\n",
    "Ans: Multithreading in Python is a technique where multiple threads are created within a single process, allowing for concurrent execution of tasks. This is particularly useful for I/O-bound operations, where threads can perform tasks such as reading from a disk, network operations, or user interactions simultaneously, thereby improving the efficiency of a program.\n",
    "\n",
    "It is used:\n",
    " * To improve the performance of I/O-bound operations.\n",
    " * To run multiple tasks concurrently.\n",
    " * To keep the application responsive (especially in applications).\n",
    "\n",
    "The module used to handle threads in Python is the threading module."
   ]
  },
  {
   "cell_type": "code",
   "execution_count": null,
   "metadata": {},
   "outputs": [],
   "source": []
  },
  {
   "cell_type": "markdown",
   "metadata": {},
   "source": [
    "Q2. Why threading module used? Write the use of the following functions : \n",
    " * **activeCount()**\n",
    " * **currentThread()**\n",
    " * **enumerate()**\n",
    "\n",
    "Ans: Threading module is used to create and manage threads in Python. It provides a high-level interface to work with threads and enables concurrent execution.\n",
    "\n",
    "Use of following Functions:\n",
    "\n",
    " * **activeCount()**: Returns the number of Thread objects currently alive. It helps in tracking the number of active threads.\n",
    "\n",
    " * **currentThread()**: Returns the current Thread object corresponding to the caller's thread of control. This is useful for getting details about the thread that is currently executing.\n",
    "\n",
    " * **enumerate()**: Returns a list of all Thread objects currently alive. It helps in getting a snapshot of all threads at any given point in time.\n",
    "\n",
    "\n"
   ]
  },
  {
   "cell_type": "code",
   "execution_count": 14,
   "metadata": {},
   "outputs": [
    {
     "name": "stdout",
     "output_type": "stream",
     "text": [
      "No. of active thread objects : 6\n",
      "\n",
      "\n",
      "current Thread object corresponding to the caller's thread of control : <_MainThread(MainThread, started 9156)>\n",
      "\n",
      "\n",
      "list of all Thread objects currently alive are : [<_MainThread(MainThread, started 9156)>, <Thread(IOPub, started daemon 19952)>, <Heartbeat(Heartbeat, started daemon 11636)>, <ControlThread(Control, started daemon 5940)>, <HistorySavingThread(IPythonHistorySavingThread, started 1752)>, <ParentPollerWindows(Thread-3, started daemon 4072)>]\n"
     ]
    }
   ],
   "source": [
    "#Example of function active_count()\n",
    "import threading\n",
    "print(f\"No. of active thread objects : {threading.active_count()}\")\n",
    "print('\\n')\n",
    "\n",
    "#Example of function current_thread()\n",
    "import threading\n",
    "print(f\"current Thread object corresponding to the caller's thread of control : {threading.current_thread()}\")\n",
    "print('\\n')\n",
    "\n",
    "#Example of function enumerate()\n",
    "import threading\n",
    "print(f\"list of all Thread objects currently alive are : {threading.enumerate()}\")\n"
   ]
  },
  {
   "cell_type": "code",
   "execution_count": null,
   "metadata": {},
   "outputs": [],
   "source": []
  },
  {
   "cell_type": "markdown",
   "metadata": {},
   "source": [
    "Q3. Explain the following functions : \n",
    " * **run()**\n",
    " * **start()**\n",
    " * **join()**\n",
    " * **isAlive()**\n",
    "\n",
    "Ans: \n",
    "**run()**: The run() method defines the thread's activity and is the entry point for the thread. When a thread's start() method is called, the thread's run() method is invoked. It can be overridden in a subclass to define the thread's behavior.\n",
    "\n",
    "**start()**: The start() method begins the thread's activity. It must be called at most once per thread object. It arranges for the thread's run() method to be invoked in a separate thread of control.\n",
    "\n",
    "**join()**: The join() method waits for the thread to terminate. This blocks the calling thread until the thread whose join() method is called is terminated.\n",
    "\n",
    "\n",
    "**isAlive()**: The isAlive() method returns whether the thread is still alive. It is useful for checking if a thread is still executing."
   ]
  },
  {
   "cell_type": "code",
   "execution_count": 9,
   "metadata": {},
   "outputs": [
    {
     "name": "stdout",
     "output_type": "stream",
     "text": [
      "Thread is running\n"
     ]
    }
   ],
   "source": [
    "#Example of function run()\n",
    "import threading\n",
    "class MyThread(threading.Thread):\n",
    "    def run(self):\n",
    "        print(\"Thread is running\")\n",
    "t = MyThread()\n",
    "t.start()"
   ]
  },
  {
   "cell_type": "code",
   "execution_count": 10,
   "metadata": {},
   "outputs": [
    {
     "name": "stdout",
     "output_type": "stream",
     "text": [
      "Thread is running\n"
     ]
    }
   ],
   "source": [
    "#Example of function start()\n",
    "import threading\n",
    "def thread_function():\n",
    "    print(\"Thread is running\")\n",
    "\n",
    "t = threading.Thread(target=thread_function)\n",
    "t.start()"
   ]
  },
  {
   "cell_type": "code",
   "execution_count": 2,
   "metadata": {},
   "outputs": [
    {
     "name": "stdout",
     "output_type": "stream",
     "text": [
      "Thread is running\n",
      "Thread has finished execution\n"
     ]
    }
   ],
   "source": [
    "#Example of function join()\n",
    "import threading\n",
    "\n",
    "def thread_function():\n",
    "    print(\"Thread is running\")\n",
    "\n",
    "t1 = threading.Thread(target=thread_function)\n",
    "t1.start()\n",
    "t1.join()\n",
    "print(\"Thread has finished execution\")"
   ]
  },
  {
   "cell_type": "code",
   "execution_count": 13,
   "metadata": {},
   "outputs": [
    {
     "name": "stdout",
     "output_type": "stream",
     "text": [
      "Thread is running\n",
      "False\n"
     ]
    }
   ],
   "source": [
    "#Example of function is_alive()\n",
    "import threading\n",
    "\n",
    "def thread_function():\n",
    "    print(\"Thread is running\")\n",
    "\n",
    "t = threading.Thread(target=thread_function)\n",
    "t.start()\n",
    "print(t.is_alive())"
   ]
  },
  {
   "cell_type": "code",
   "execution_count": null,
   "metadata": {},
   "outputs": [],
   "source": []
  },
  {
   "cell_type": "markdown",
   "metadata": {},
   "source": [
    "Q4.  Write a python program to create two threads. Thread one must print the list of squares and thread \n",
    "two must print the list of cubes.\n",
    "\n"
   ]
  },
  {
   "cell_type": "code",
   "execution_count": 15,
   "metadata": {},
   "outputs": [
    {
     "name": "stdout",
     "output_type": "stream",
     "text": [
      "Square of 1: 1\n",
      "Square of 2: 4\n",
      "Square of 3: 9\n",
      "Square of 4: 16\n",
      "Square of 5: 25\n",
      "Cube of 1: 1\n",
      "Cube of 2: 8\n",
      "Cube of 3: 27\n",
      "Cube of 4: 64\n",
      "Cube of 5: 125\n"
     ]
    }
   ],
   "source": [
    "import threading\n",
    "\n",
    "def print_squares(numbers):\n",
    "    for n in numbers:\n",
    "        print(f\"Square of {n}: {n * n}\")\n",
    "\n",
    "def print_cubes(numbers):\n",
    "    for n in numbers:\n",
    "        print(f\"Cube of {n}: {n * n * n}\")\n",
    "\n",
    "numbers = [1, 2, 3, 4, 5]\n",
    "\n",
    "thread1 = threading.Thread(target=print_squares, args=(numbers,))\n",
    "thread2 = threading.Thread(target=print_cubes, args=(numbers,))\n",
    "\n",
    "thread1.start()\n",
    "thread2.start()\n",
    "\n",
    "thread1.join()\n",
    "thread2.join()\n"
   ]
  },
  {
   "cell_type": "code",
   "execution_count": null,
   "metadata": {},
   "outputs": [],
   "source": []
  },
  {
   "cell_type": "markdown",
   "metadata": {},
   "source": [
    "Q5. State advantages and disadvantages of multithreading.\n",
    "\n",
    "Advantages:\n",
    " * **Concurrency**: Allows multiple operations to be performed simultaneously, leading to better resource utilization.\n",
    " * **Responsiveness**: Keeps the application responsive, especially in user interfaces.\n",
    " * **Resource Sharing**: Threads within the same process share memory and resources, which can be more efficient than using multiple processes.\n",
    " * **Economy**: Creating and managing threads requires less overhead compared to processes.\n",
    "\n",
    "Disadvantages:\n",
    "\n",
    " * **Complexity**: Writing multithreaded programs can be complex and error-prone.\n",
    " * **Synchronization Issues**: Threads may need to access shared resources, leading to potential issues like race conditions and deadlocks.\n",
    " * **Global Interpreter Lock(GIL)**: In CPython, the GIL limits the execution of threads, preventing true parallelism in CPU-bound tasks."
   ]
  },
  {
   "cell_type": "code",
   "execution_count": null,
   "metadata": {},
   "outputs": [],
   "source": []
  },
  {
   "cell_type": "markdown",
   "metadata": {},
   "source": [
    "Q6. Explain deadlocks and race conditions.\n",
    "\n",
    "Ans: \n",
    " * **Deadlocks**:\n",
    "A deadlock occurs when two or more threads are blocked forever, waiting for each other to release resources. This typically happens when two or more threads acquire locks in different orders and end up waiting for each other.\n",
    "\n",
    " * **Race Conditions**:\n",
    "A race condition occurs when the behavior of a program depends on the relative timing of events like thread execution order. This can lead to unpredictable results and bugs, especially when multiple threads access shared resources without proper synchronization."
   ]
  }
 ],
 "metadata": {
  "kernelspec": {
   "display_name": "Python 3",
   "language": "python",
   "name": "python3"
  },
  "language_info": {
   "codemirror_mode": {
    "name": "ipython",
    "version": 3
   },
   "file_extension": ".py",
   "mimetype": "text/x-python",
   "name": "python",
   "nbconvert_exporter": "python",
   "pygments_lexer": "ipython3",
   "version": "3.12.0"
  }
 },
 "nbformat": 4,
 "nbformat_minor": 2
}
