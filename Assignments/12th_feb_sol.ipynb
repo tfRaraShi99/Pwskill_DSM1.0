{
 "cells": [
  {
   "cell_type": "markdown",
   "metadata": {},
   "source": [
    "Q1. What is an Exception in python? Write the difference between Exceptions and Syntax errors.\n",
    "\n",
    "Ans: An Exception is an event that occurs during the execution of a program, disrupting the normal flow of the program's instructions. \n",
    "\n",
    "Difference between Exceptions and Syntax errors:\n",
    "\n",
    "|               |Syntax Error| Exception    |\n",
    "|---------------|------------|--------------|\n",
    "|Origin         |These errors occur when the code violates the rules of Python's grammar. They are detected during the parsing stage, before the program starts executing. Examples include missing colons, incorrect indentation, or misspelled keywords.|These errors occur during the program's execution, even if the syntax is correct. They are raised when something unexpected happens, like trying to divide a value(number) by zero or accessing a non-existent file.|\n",
    "|Recoverability |These errors must be fixed in the code before the program can be executed. They are considered unrecoverable at runtime.|These errors can be handled using try-except blocks, allowing the program to recover gracefully and continue running.|\n"
   ]
  },
  {
   "cell_type": "code",
   "execution_count": 2,
   "metadata": {},
   "outputs": [
    {
     "name": "stdout",
     "output_type": "stream",
     "text": [
      "division by zero\n"
     ]
    }
   ],
   "source": [
    "#Exception :\n",
    "try:\n",
    "    y = 10 / 0\n",
    "except ZeroDivisionError as e:\n",
    "    print(e)\n",
    "# ZeroDivisionError: division by zero"
   ]
  },
  {
   "cell_type": "code",
   "execution_count": 3,
   "metadata": {},
   "outputs": [
    {
     "ename": "SyntaxError",
     "evalue": "invalid syntax. Maybe you meant '==' or ':=' instead of '='? (3982490576.py, line 2)",
     "output_type": "error",
     "traceback": [
      "\u001b[1;36m  Cell \u001b[1;32mIn[3], line 2\u001b[1;36m\u001b[0m\n\u001b[1;33m    if x = 5:\u001b[0m\n\u001b[1;37m       ^\u001b[0m\n\u001b[1;31mSyntaxError\u001b[0m\u001b[1;31m:\u001b[0m invalid syntax. Maybe you meant '==' or ':=' instead of '='?\n"
     ]
    }
   ],
   "source": [
    "#Syntax errors:\n",
    "if x = 5:"
   ]
  },
  {
   "cell_type": "code",
   "execution_count": null,
   "metadata": {},
   "outputs": [],
   "source": []
  },
  {
   "cell_type": "markdown",
   "metadata": {},
   "source": [
    "Q2. What happens when an exception is not handled? Explain with an example.\n",
    "\n",
    "Ans : When an exception is not handled, the program terminates abruptly, and an error message is displayed, showing the type of exception and where it occurred. This can lead to unexpected program termination and data loss."
   ]
  },
  {
   "cell_type": "code",
   "execution_count": 4,
   "metadata": {},
   "outputs": [
    {
     "ename": "ZeroDivisionError",
     "evalue": "division by zero",
     "output_type": "error",
     "traceback": [
      "\u001b[1;31m---------------------------------------------------------------------------\u001b[0m",
      "\u001b[1;31mZeroDivisionError\u001b[0m                         Traceback (most recent call last)",
      "Cell \u001b[1;32mIn[4], line 4\u001b[0m\n\u001b[0;32m      1\u001b[0m \u001b[38;5;28;01mdef\u001b[39;00m \u001b[38;5;21mdivide\u001b[39m(x, y):\n\u001b[0;32m      2\u001b[0m     \u001b[38;5;28;01mreturn\u001b[39;00m x \u001b[38;5;241m/\u001b[39m y\n\u001b[1;32m----> 4\u001b[0m \u001b[38;5;28mprint\u001b[39m(\u001b[43mdivide\u001b[49m\u001b[43m(\u001b[49m\u001b[38;5;241;43m10\u001b[39;49m\u001b[43m,\u001b[49m\u001b[43m \u001b[49m\u001b[38;5;241;43m0\u001b[39;49m\u001b[43m)\u001b[49m)\n",
      "Cell \u001b[1;32mIn[4], line 2\u001b[0m, in \u001b[0;36mdivide\u001b[1;34m(x, y)\u001b[0m\n\u001b[0;32m      1\u001b[0m \u001b[38;5;28;01mdef\u001b[39;00m \u001b[38;5;21mdivide\u001b[39m(x, y):\n\u001b[1;32m----> 2\u001b[0m     \u001b[38;5;28;01mreturn\u001b[39;00m \u001b[43mx\u001b[49m\u001b[43m \u001b[49m\u001b[38;5;241;43m/\u001b[39;49m\u001b[43m \u001b[49m\u001b[43my\u001b[49m\n",
      "\u001b[1;31mZeroDivisionError\u001b[0m: division by zero"
     ]
    }
   ],
   "source": [
    "# Example for Exception Not Handled Properly.\n",
    "def divide(x, y):\n",
    "    return x / y\n",
    "\n",
    "print(divide(10, 0))"
   ]
  },
  {
   "cell_type": "code",
   "execution_count": null,
   "metadata": {},
   "outputs": [],
   "source": []
  },
  {
   "cell_type": "markdown",
   "metadata": {},
   "source": [
    "Q3. Which Python statements are used to catch and handle exceptions? Explain with an example.\n",
    "\n",
    "Ans:  The **try** , **except** , and **finally** statements are used to catch and handle exceptions.\n",
    "\n",
    " * _try_: The code that might raise an exception is placed within the try block.\n",
    "\n",
    " * _except_: If an exception occurs in the try block, the code in the corresponding except block is executed. One can specify the type of exception one want to catch, or use a general except clause to catch any exception.\n",
    "\n",
    " * _finally_: The code in the finally block is always executed, regardless of whether an exception occurred or not. This is typically used for cleanup tasks, like closing files or network connections. \n",
    "\n",
    "\n",
    "\n"
   ]
  },
  {
   "cell_type": "code",
   "execution_count": null,
   "metadata": {},
   "outputs": [],
   "source": [
    "try:\n",
    "    x = 10 / 0  # This will raise a ZeroDivisionError\n",
    "except ZeroDivisionError:\n",
    "    print(\"Cannot divide by zero!\")\n",
    "finally:\n",
    "    print(\"This will always be printed.\")"
   ]
  },
  {
   "cell_type": "code",
   "execution_count": null,
   "metadata": {},
   "outputs": [],
   "source": []
  },
  {
   "cell_type": "markdown",
   "metadata": {},
   "source": [
    "Q4. Explain with an example:\n",
    " * **try** and **else**\n",
    " * **finally**\n",
    " * **raise**\n",
    "\n",
    "Ans: \n",
    " * _try_: The code that might raise an exception is placed within the try block.\n",
    " \n",
    " * _else_:The else block executes only if the try block completes without raising any exceptions.\n",
    "\n",
    " * _finally_: The code in the finally block is always executed, regardless of whether an exception occurred or not. This is typically used for cleanup tasks, like closing files or network connections. \n",
    "\n",
    " * _raise_: The raise keyword is used to explicitly raise an exception. This is useful for custom error handling.\n"
   ]
  },
  {
   "cell_type": "code",
   "execution_count": 6,
   "metadata": {},
   "outputs": [
    {
     "name": "stdout",
     "output_type": "stream",
     "text": [
      "Result: 5.0\n",
      "This always runs.\n",
      "Division by zero!\n",
      "This always runs.\n",
      "Age: 15\n"
     ]
    },
    {
     "ename": "ValueError",
     "evalue": "Age cannot be negative",
     "output_type": "error",
     "traceback": [
      "\u001b[1;31m---------------------------------------------------------------------------\u001b[0m",
      "\u001b[1;31mValueError\u001b[0m                                Traceback (most recent call last)",
      "Cell \u001b[1;32mIn[6], line 22\u001b[0m\n\u001b[0;32m     19\u001b[0m     \u001b[38;5;28mprint\u001b[39m(\u001b[38;5;124m\"\u001b[39m\u001b[38;5;124mAge:\u001b[39m\u001b[38;5;124m\"\u001b[39m, age)\n\u001b[0;32m     21\u001b[0m check_age(\u001b[38;5;241m15\u001b[39m)\n\u001b[1;32m---> 22\u001b[0m \u001b[43mcheck_age\u001b[49m\u001b[43m(\u001b[49m\u001b[38;5;241;43m-\u001b[39;49m\u001b[38;5;241;43m5\u001b[39;49m\u001b[43m)\u001b[49m\n",
      "Cell \u001b[1;32mIn[6], line 18\u001b[0m, in \u001b[0;36mcheck_age\u001b[1;34m(age)\u001b[0m\n\u001b[0;32m     16\u001b[0m \u001b[38;5;28;01mdef\u001b[39;00m \u001b[38;5;21mcheck_age\u001b[39m(age):\n\u001b[0;32m     17\u001b[0m     \u001b[38;5;28;01mif\u001b[39;00m age \u001b[38;5;241m<\u001b[39m \u001b[38;5;241m0\u001b[39m:\n\u001b[1;32m---> 18\u001b[0m         \u001b[38;5;28;01mraise\u001b[39;00m \u001b[38;5;167;01mValueError\u001b[39;00m(\u001b[38;5;124m\"\u001b[39m\u001b[38;5;124mAge cannot be negative\u001b[39m\u001b[38;5;124m\"\u001b[39m)\n\u001b[0;32m     19\u001b[0m     \u001b[38;5;28mprint\u001b[39m(\u001b[38;5;124m\"\u001b[39m\u001b[38;5;124mAge:\u001b[39m\u001b[38;5;124m\"\u001b[39m, age)\n",
      "\u001b[1;31mValueError\u001b[0m: Age cannot be negative"
     ]
    }
   ],
   "source": [
    "# Example of try, else, and finally\n",
    "def divide(x, y):\n",
    "    try:\n",
    "        result = x / y  # This might raise an exception if y is 0\n",
    "    except ZeroDivisionError:\n",
    "        print(\"Division by zero!\")\n",
    "    else:\n",
    "        print(\"Result:\", result)  # This runs only if no exception occurred\n",
    "    finally:\n",
    "        print(\"This always runs.\")  # This runs regardless of exceptions\n",
    "\n",
    "divide(10, 2)\n",
    "divide(10, 0)\n",
    "\n",
    "# Raising an exception manually\n",
    "def check_age(age):\n",
    "    if age < 0:\n",
    "        raise ValueError(\"Age cannot be negative\")\n",
    "    print(\"Age:\", age)\n",
    "\n",
    "check_age(15)\n",
    "check_age(-5)"
   ]
  },
  {
   "cell_type": "code",
   "execution_count": null,
   "metadata": {},
   "outputs": [],
   "source": []
  },
  {
   "cell_type": "markdown",
   "metadata": {},
   "source": [
    "Q5. What are Custom Exceptions in python? Why do we need Custom Exceptions? Explain with an example.\n",
    "\n",
    "Ans: Custom exceptions in Python are user-defined exception classes that inherit from the base Exception class or any of its subclasses. This allows one to create specific error types tailored to application's needs.\n",
    "\n",
    "Custom Exceptions are helpful in many ways. \n",
    " * Readability and Maintainability: Custom exceptions make the code more readable by providing descriptive names for specific error scenarios. This helps in understanding the purpose of error handling blocks and makes it easier to maintain the codebase.\n",
    " * Granularity: They allows one to handle different error situations differently. Instead of relying on generic exceptions like ValueError or IndexError, one can create custom exceptions for specific cases, enabling more precise error handling logic.\n",
    " * Debugging: Custom exceptions can include additional information about the error, such as specific values or context, making it easier to debug and pinpoint the source of the problem.\n"
   ]
  },
  {
   "cell_type": "code",
   "execution_count": 10,
   "metadata": {},
   "outputs": [
    {
     "name": "stdout",
     "output_type": "stream",
     "text": [
      "age is too high\n"
     ]
    }
   ],
   "source": [
    "class validage(Exception):\n",
    "    def __init__(self,msg):\n",
    "        self.msg=msg\n",
    "\n",
    "def validate_age(age):\n",
    "      if age < 0:\n",
    "        raise validage(\"age shouldn't be lesser than zero\")\n",
    "      elif age > 150:\n",
    "        raise validage(\"age is too high\")\n",
    "      else:\n",
    "          print(\"age is valid\")\n",
    "try:\n",
    "    age= int(input(\"Enter Age: \"))\n",
    "    validate_age(age)\n",
    "except Exception as e:\n",
    "    print(e)\n"
   ]
  },
  {
   "cell_type": "code",
   "execution_count": null,
   "metadata": {},
   "outputs": [],
   "source": []
  },
  {
   "cell_type": "markdown",
   "metadata": {},
   "source": [
    "Q6. Create a custom exception class. Use this class to handle an exception."
   ]
  },
  {
   "cell_type": "code",
   "execution_count": 14,
   "metadata": {},
   "outputs": [
    {
     "name": "stdout",
     "output_type": "stream",
     "text": [
      "Withdrawal successful.\n"
     ]
    }
   ],
   "source": [
    "class InsufficientFundsError(Exception):\n",
    "    def __init__(self, balance, amount):\n",
    "        self.balance = balance\n",
    "        self.amount = amount\n",
    "        super().__init__(f\"Insufficient funds: Balance {balance}, attempted to withdraw {amount}\")\n",
    "\n",
    "class InvalidAccountError(Exception):\n",
    "    pass\n",
    "\n",
    "def withdraw(account_number, amount):\n",
    "    if account_number not in accounts:\n",
    "        raise InvalidAccountError(\"Account not found.\")\n",
    "\n",
    "    balance = accounts[account_number]\n",
    "    if balance < amount:\n",
    "        raise InsufficientFundsError(balance, amount)\n",
    "\n",
    "    accounts[account_number] -= amount\n",
    "    print(\"Withdrawal successful.\")\n",
    "\n",
    "accounts = {\"12345\": 1000, \"67890\": 3500}\n",
    "\n",
    "try:\n",
    "    acc = input(\"Enter Account no.: \")\n",
    "    withdraw(acc, 1500)\n",
    "except InsufficientFundsError as e:\n",
    "    print(e)\n",
    "except InvalidAccountError as e:\n",
    "    print(e)"
   ]
  }
 ],
 "metadata": {
  "kernelspec": {
   "display_name": "Python 3",
   "language": "python",
   "name": "python3"
  },
  "language_info": {
   "codemirror_mode": {
    "name": "ipython",
    "version": 3
   },
   "file_extension": ".py",
   "mimetype": "text/x-python",
   "name": "python",
   "nbconvert_exporter": "python",
   "pygments_lexer": "ipython3",
   "version": "3.12.0"
  }
 },
 "nbformat": 4,
 "nbformat_minor": 2
}
