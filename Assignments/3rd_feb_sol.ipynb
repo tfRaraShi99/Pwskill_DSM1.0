{
 "cells": [
  {
   "cell_type": "markdown",
   "id": "1e66c1bc-0216-48df-8083-f7a3856ab2f8",
   "metadata": {},
   "source": [
    "Q1. Which keyword is used to create a function? Create a function to return a list of odd numbers in the \n",
    "range of 1 to 25.\n",
    "\n",
    "Ans: \n",
    "(i) \"def\" keyword is used to create a function.\n",
    "(ii) Following is the function that returns a list of odd numbers in the range of 1 to 25."
   ]
  },
  {
   "cell_type": "code",
   "execution_count": 8,
   "id": "793b4caa-7a18-4988-9931-470cf58057ed",
   "metadata": {},
   "outputs": [
    {
     "data": {
      "text/plain": [
       "[1, 3, 5, 7, 9, 11, 13, 15, 17, 19, 21, 23]"
      ]
     },
     "execution_count": 8,
     "metadata": {},
     "output_type": "execute_result"
    }
   ],
   "source": [
    "def findodd():\n",
    "    l=[]\n",
    "    for i in range(1,25):\n",
    "        if i % 2!=0:\n",
    "            l.append(i)\n",
    "    return l\n",
    "findodd()\n"
   ]
  },
  {
   "cell_type": "code",
   "execution_count": null,
   "id": "2246d1ed-5907-4743-a05a-472cd65f469d",
   "metadata": {},
   "outputs": [],
   "source": []
  },
  {
   "cell_type": "markdown",
   "id": "e3896e27-fc83-4e6d-ab5a-23e4df044ea5",
   "metadata": {},
   "source": [
    "Q2. Why *args and **kwargs is used in some functions? Create a function each for *args and **kwargs to \n",
    "demonstrate their use.\n",
    "\n",
    "Ans:\n",
    "(i) *args(arguments) is used to pass multiple or variable number of arguments to a function. The datatype may also vary from argument to argument. While **kwargs(keyword arguments) is used to pass a variable number of arguments to a function in key-value pairs. \n",
    "(ii) Following is the function to demonstrate the working of each ( *args and **kwargs) .\n"
   ]
  },
  {
   "cell_type": "code",
   "execution_count": 10,
   "id": "163823af-c878-4c25-bfe1-080a73c5b3f1",
   "metadata": {},
   "outputs": [
    {
     "name": "stdout",
     "output_type": "stream",
     "text": [
      "The multiple aruments under *args are: \n",
      "1 <class 'int'>\n",
      "2 <class 'int'>\n",
      "4 <class 'int'>\n",
      "5 <class 'int'>\n",
      "zoe <class 'str'>\n",
      "(1, 2, 3, 4) <class 'tuple'>\n",
      "['seven', 9, 'zero', 2] <class 'list'>\n",
      "\n",
      "\n",
      "The arguments under **kwargs in Key-Value pairs are: \n",
      "{'a': 'apple', 'b': 'banana', 'c': 'cucumber'}\n"
     ]
    }
   ],
   "source": [
    "def test(*args , **kwargs):\n",
    "    print(f\"The multiple aruments under *args are: \")\n",
    "    for i in args:\n",
    "        print(i , type(i))\n",
    "    print(\"\\n\")\n",
    "    print(f\"The arguments under **kwargs in Key-Value pairs are: \")\n",
    "    print(kwargs)\n",
    "\n",
    "test(1,2,4,5,'zoe',(1,2,3,4),['seven',9,'zero',2], a=\"apple\",b=\"banana\",c=\"cucumber\")\n",
    "        \n",
    "#Here, from the given input in the test function, \n",
    "#(1,2,4,5,'zoe',(1,2,3,4),['seven',9,'zero',2]) all these arguments are considered under *args as variable number of arguments as well as of different datatypes. \n",
    "#But (a=\"apple\",b=\"banana\",c=\"cucumber\") these are considered automatically  under **kwargs as dictionary datatype i.e, in key-value pair. \n",
    "#The Keys are \"a\",\"b\",\"c\" and the values are \"apple\",\"banana\",\"cucumber\"."
   ]
  },
  {
   "cell_type": "code",
   "execution_count": null,
   "id": "972d3ef3-1f4b-4c52-8bd1-1acf725a0af3",
   "metadata": {},
   "outputs": [],
   "source": []
  },
  {
   "cell_type": "markdown",
   "id": "0c9f3b52-cca8-4a4a-803f-b40c9dad09c5",
   "metadata": {},
   "source": [
    "Q3.  What is an iterator in python? Name the method used to initialise the iterator object and the method \n",
    "used for iteration. Use these methods to print the first five elements of the given list [2, 4, 6, 8, 10, 12, 14, 16, \n",
    "18, 20].\n",
    "\n",
    "Ans: \n",
    "(i) An iterator in Python is an object that is used to iterate over iterable objects like lists, tuples, dicts, and sets. \n",
    "\n",
    "(ii) The Python iterators object is initialized using the iter() method. This method returns an iterator object.\n",
    "And it uses the next() method for iteration. This method returns the next value for the iterable and raises a StopIteration to signal the end of the iteration.\n",
    "\n",
    "(iii) Below is the function using the methods iter() and next() to iter over the given list and print first five elements. "
   ]
  },
  {
   "cell_type": "code",
   "execution_count": 5,
   "id": "50cf0c00-48b7-433b-b227-712453e53698",
   "metadata": {},
   "outputs": [
    {
     "name": "stdout",
     "output_type": "stream",
     "text": [
      "2 4 6 8 10 "
     ]
    }
   ],
   "source": [
    "l= [2, 4, 6, 8, 10, 12, 14, 16, 18, 20]\n",
    "list_iter = iter(l)\n",
    "\n",
    "for i in range(5):\n",
    "    print(next(list_iter),end=' ')"
   ]
  },
  {
   "cell_type": "code",
   "execution_count": null,
   "id": "a72e6dd8-ffae-4936-bbce-0f22fec6174f",
   "metadata": {},
   "outputs": [],
   "source": []
  },
  {
   "cell_type": "markdown",
   "id": "bafdcd7d-8dd6-4c79-b1af-8641e6297d92",
   "metadata": {},
   "source": [
    "Q4.  What is a generator function in python? Why yield keyword is used? Give an example of a generator function.\n",
    "\n",
    "Ans: \n",
    "(i) A generator function in Python is a function that returns a generator object. Generator objects are iterables, which means that they can be used in a for loop. The generator object can be used to iterate over the values that the generator function yields. Generator functions are often used to generate sequences of values that are too large to be stored in memory all at once.\n",
    "\n",
    "(ii) The yield keyword is used in generator functions to indicate where the function should yield a value. When the yield statement is encountered, the function temporarily suspends its execution and returns the value to the caller. The function can then be resumed later, picking up where it left off.\n",
    "\n",
    "(iii) A generator function could be used to generate the Fibonacci sequence, which is a sequence of numbers where each number is the sum of the two previous numbers. Following is the example of a generator function that generates the Fibonacci sequence."
   ]
  },
  {
   "cell_type": "code",
   "execution_count": 4,
   "id": "c6686b8f-70cd-45aa-9b28-55254a803e95",
   "metadata": {},
   "outputs": [
    {
     "name": "stdout",
     "output_type": "stream",
     "text": [
      "0 1 1 2 3 5 8 13 21 34 "
     ]
    }
   ],
   "source": [
    "def test_fib(n):\n",
    "    a,b=0,1\n",
    "    for i in range(n):\n",
    "        yield a\n",
    "        a, b = b , a+b\n",
    "for i in test_fib(10):\n",
    "    print(i,end=' ')"
   ]
  },
  {
   "cell_type": "code",
   "execution_count": null,
   "id": "31be565b-d7ff-46d9-9db1-92ba9fc4c6ee",
   "metadata": {},
   "outputs": [],
   "source": []
  },
  {
   "cell_type": "markdown",
   "id": "e7ac2363-265e-4e07-aaa7-da06704bbc22",
   "metadata": {},
   "source": [
    "Q5. Create a generator function for prime numbers less than 1000. Use the next() method to print the first 20 prime numbers."
   ]
  },
  {
   "cell_type": "code",
   "execution_count": 9,
   "id": "05e25ce5-6e16-4fa0-8b38-4ec4e07c4e2e",
   "metadata": {},
   "outputs": [
    {
     "name": "stdout",
     "output_type": "stream",
     "text": [
      "2 3 5 7 11 13 17 19 23 29 31 37 41 43 47 53 59 61 67 71 "
     ]
    }
   ],
   "source": [
    "def prime_generator():\n",
    "    yield 2\n",
    "    primes = [2]\n",
    "    candidate = 3\n",
    "    \n",
    "    while candidate < 1000:\n",
    "        is_prime = True\n",
    "        for prime in primes:\n",
    "            if prime * prime > candidate:\n",
    "                break\n",
    "            if candidate % prime == 0:\n",
    "                is_prime = False\n",
    "                break\n",
    "        if is_prime:\n",
    "            primes.append(candidate)\n",
    "            yield candidate\n",
    "        candidate += 2 \n",
    "\n",
    "\n",
    "prime_gen = prime_generator()\n",
    "\n",
    "\n",
    "for _ in range(20):\n",
    "    print(next(prime_gen),end=\" \")\n"
   ]
  }
 ],
 "metadata": {
  "kernelspec": {
   "display_name": "Python 3 (ipykernel)",
   "language": "python",
   "name": "python3"
  },
  "language_info": {
   "codemirror_mode": {
    "name": "ipython",
    "version": 3
   },
   "file_extension": ".py",
   "mimetype": "text/x-python",
   "name": "python",
   "nbconvert_exporter": "python",
   "pygments_lexer": "ipython3",
   "version": "3.10.8"
  }
 },
 "nbformat": 4,
 "nbformat_minor": 5
}
