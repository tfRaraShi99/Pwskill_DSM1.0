{
 "cells": [
  {
   "cell_type": "markdown",
   "id": "c023f7ed-ffb4-441f-8a1f-1a5228b771b3",
   "metadata": {},
   "source": [
    "Q1. Create a function which will take a list as an argument and return the product of all the numbers after creating a flat list.\n",
    "\n",
    "Use the below-given list as an argument for your function.\n",
    "\n",
    "\n",
    "list1 = [1,2,3,4, [44,55,66, True], False, (34,56,78,89,34), {1,2,3,3,2,1}, {1:34, \"key2\": [55, 67, 78, 89], 4: (45, 22, 61, 34)}, [56, 'data science'], 'Machine Learning']\n",
    "\n",
    "Note: you must extract numeric keys and values of the dictionary also.\n",
    "\n"
   ]
  },
  {
   "cell_type": "code",
   "execution_count": 2,
   "id": "b3697db2-2297-4c63-a05c-4a4b110beb92",
   "metadata": {},
   "outputs": [
    {
     "name": "stdout",
     "output_type": "stream",
     "text": [
      "4134711838987085478833841242112000 "
     ]
    }
   ],
   "source": [
    "#Method 1\n",
    "\n",
    "from functools import reduce\n",
    "list1 = [1,2,3,4, [44,55,66,True], False, (34,56,78,89,34), {1,2,3,3,2,1}, \n",
    "         { 1:34, \"key2\":[55, 67, 78, 89], 4:(45, 22, 61, 34) }, \n",
    "         [56, 'data science'], 'Machine Learning']\n",
    "\n",
    "class test:\n",
    "    \n",
    "    def __init__(self,list1):\n",
    "        self.l=list1\n",
    "        self.final=[]\n",
    "        \n",
    "    def find(self,list1):\n",
    "\n",
    "        for i in list1:\n",
    "            #integer\n",
    "            if type(i) ==int:\n",
    "                self.final.append(i)\n",
    "\n",
    "            ##dictionary\n",
    "            elif type(i) == dict:\n",
    "                for k in i.items():\n",
    "                    for j in k:\n",
    "                        if type(j)==int:\n",
    "                            self.final.append(j)\n",
    "                        elif type(j)==list or type(j)==tuple or type(j)==set:\n",
    "                            list(map(lambda x:self.insertele(x), j))  \n",
    "\n",
    "            #list,tuple,set\n",
    "            elif type(i)==list or type(i)==set or type(i)==tuple:\n",
    "                list(map(lambda x:self.insertele(x), i)) \n",
    "        return self.final\n",
    "\n",
    "    def insertele(self,x):\n",
    "        if type(x)== str or type(x)==bool:\n",
    "            pass\n",
    "        else:\n",
    "            self.final.append(x)\n",
    "\n",
    "    def product(self):\n",
    "        res=self.find(self.l)\n",
    "        result=reduce(lambda x,y: x*y,res)\n",
    "        #print(res,end=\" \")\n",
    "        return result\n",
    "    \n",
    "t=test(list1)\n",
    "print(t.product(),end=\" \")\n",
    "\n",
    "                    "
   ]
  },
  {
   "cell_type": "code",
   "execution_count": 17,
   "id": "c0ade800-1f48-4944-90be-74845a7de848",
   "metadata": {},
   "outputs": [
    {
     "name": "stdout",
     "output_type": "stream",
     "text": [
      "4134711838987085478833841242112000\n"
     ]
    }
   ],
   "source": [
    "#Method2\n",
    "\n",
    "list1 = [1, 2, 3, 4, [44, 55, 66, True], False, (34, 56, 78, 89, 34), {1, 2, 3, 3, 2, 1}, \n",
    "         {1: 34, \"key2\": [55, 67, 78, 89], 4: (45, 22, 61, 34)}, \n",
    "         [56, 'data science'], 'Machine Learning']\n",
    "\n",
    "final = []\n",
    "\n",
    "def test(lst):\n",
    "    for item in lst:\n",
    "        if isinstance(item, (int, float)):\n",
    "            final.append(item)\n",
    "        elif isinstance(item, dict):\n",
    "            for key, value in item.items():\n",
    "                if isinstance(key, (int, float)):\n",
    "                    final.append(key)\n",
    "                if isinstance(value, (int, float)):\n",
    "                    final.append(value)\n",
    "                elif isinstance(value, (list, tuple, set)):\n",
    "                    test(value)\n",
    "        elif isinstance(item, (list, tuple, set)):\n",
    "            test(item)\n",
    "\n",
    "test(list1)\n",
    "res=1\n",
    "for i in final:\n",
    "    if type(i)==bool:\n",
    "        continue\n",
    "    else:\n",
    "        res*=i\n",
    "\n",
    "# print(final)\n",
    "print(res)\n"
   ]
  },
  {
   "cell_type": "code",
   "execution_count": null,
   "id": "17fedd84-7cc8-448b-922f-9826b2cfae11",
   "metadata": {},
   "outputs": [],
   "source": []
  },
  {
   "cell_type": "markdown",
   "id": "bc1879a1-a538-49e8-a869-a1a033c987a7",
   "metadata": {},
   "source": [
    "Q2. Write a python program for encrypting a message sent to you by your friend. The logic of encryption should be such that, for a the output should be z. For b, the output should be y. For c, the output should be x respectively. Also, the whitespace should be replaced with a dollar sign. Keep the punctuation marks unchanged.\n",
    "\n",
    "Input Sentence: I want to become a Data Scientist.\n",
    "\n",
    "Encrypt the above input sentence using the program you just created.\n",
    "\n",
    "\n",
    "Note: Convert the given input sentence into lowercase before encrypting. The final output should be lowercase."
   ]
  },
  {
   "cell_type": "code",
   "execution_count": 40,
   "id": "95c646fc-1cfa-48b2-b8b7-a41a5c72df27",
   "metadata": {},
   "outputs": [
    {
     "name": "stdout",
     "output_type": "stream",
     "text": [
      "Actual message:  I want to become a Data Scientist.\n",
      "Encrypt message: r dzmg gl yvxlnv z wzgz hxrvmgrhg.\n"
     ]
    }
   ],
   "source": [
    "def encrypt(s):\n",
    "    s=s.lower()\n",
    "    s = s.replace('\\xad', '')\n",
    "    res=\"\"\n",
    "    for j in s:\n",
    "        if j ==\".\" or j == \" \":\n",
    "            res+=j\n",
    "        else:\n",
    "            x=chr(ord('z')-ord(j) + ord('a'))\n",
    "            res+=x\n",
    "    return res\n",
    "\n",
    "s=\"I want to become a Data Scientist.\"\n",
    "print(f\"Actual message:  {s}\")\n",
    "print(f\"Encrypt message: {encrypt(s)}\")\n"
   ]
  },
  {
   "cell_type": "code",
   "execution_count": null,
   "id": "c5a123de-91e6-499a-b03f-4bb168827986",
   "metadata": {},
   "outputs": [],
   "source": []
  }
 ],
 "metadata": {
  "kernelspec": {
   "display_name": "Python 3 (ipykernel)",
   "language": "python",
   "name": "python3"
  },
  "language_info": {
   "codemirror_mode": {
    "name": "ipython",
    "version": 3
   },
   "file_extension": ".py",
   "mimetype": "text/x-python",
   "name": "python",
   "nbconvert_exporter": "python",
   "pygments_lexer": "ipython3",
   "version": "3.10.8"
  }
 },
 "nbformat": 4,
 "nbformat_minor": 5
}
