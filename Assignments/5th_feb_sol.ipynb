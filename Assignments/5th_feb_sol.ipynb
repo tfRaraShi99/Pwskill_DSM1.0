{
 "cells": [
  {
   "cell_type": "markdown",
   "id": "99461c39-a46c-490d-b01b-d6e18381aaee",
   "metadata": {},
   "source": [
    "Q1. Explain Class and Object with respect to Object-Oriented Programming. Give a suitable example.\n",
    "\n",
    "Ans: \n",
    "(i)A Class is a collection of objects. It contains the blueprint or prototype from which objects are being created. Its a logical entity that contains some attributes and methods. It is defined using the keyword 'class' with a specific definition called as class body. \n",
    "\n",
    "Whereas,  Objects are entities that has a state and specific behaviour associated with it. It consist of :\n",
    "\n",
    "    1. State : It is represented by the attributes of an object. It also reflects the properties of an object.\n",
    "    2. Behaviour : It is represented by the methods of an object. It also reflects the response of an object to other objects.\n",
    "    3. Identity : It gives a unique name to an object and enables one object to interact with other objects.\n",
    "\n",
    "Basically when we define a class, it needs to create an object to allocate the memory.\n",
    "\n",
    "(ii)Following are the suitable examples for class and its objects. \n"
   ]
  },
  {
   "cell_type": "code",
   "execution_count": 2,
   "id": "492f44be-459e-4b4f-9d06-8a3d39ba2bb2",
   "metadata": {},
   "outputs": [
    {
     "name": "stdout",
     "output_type": "stream",
     "text": [
      "Welcome to Data Science Masters School\n",
      "Welcome to Data Science Masters School\n"
     ]
    }
   ],
   "source": [
    "class School:\n",
    "    def welcm_msg(self):\n",
    "        print(\"Welcome to Data Science Masters School\")\n",
    "teacher = School()\n",
    "teacher.welcm_msg()\n",
    "\n",
    "student = School()\n",
    "student.welcm_msg()\n",
    "\n",
    "#Here \"School\" is the class and \"teacher\" and \"student\" are two different objects\n",
    "#inheriting the properties of the same class \"School\". "
   ]
  },
  {
   "cell_type": "code",
   "execution_count": null,
   "id": "aba913fa-767d-4bab-a71c-3b578e7893e8",
   "metadata": {},
   "outputs": [],
   "source": []
  },
  {
   "cell_type": "markdown",
   "id": "395751a1-651e-4af2-9394-9d0935f38aac",
   "metadata": {},
   "source": [
    "Q2. Name the four pillars of OOPs.\n",
    "\n",
    "Ans: The Four Pillars of OOPs are :\n",
    "1. Inheritance : \n",
    "Inheritance is the most important aspect of object-oriented programming, which simulates the real-world concept of inheritance. It specifies that the child object acquires all the properties and behaviors of the parent object.It provides the re-usability of the code.\n",
    "\n",
    "2. Polymorphism : \n",
    "Polymorphism contains two words \"poly\" and \"morphs\". Poly means many, and morph means shape. By polymorphism, we understand that one task can be performed in different ways. \n",
    "\n",
    "3. Encapsulation : \n",
    "Encapsulation is also an essential aspect of object-oriented programming. It is used to restrict access to methods and variables.\n",
    "\n",
    "4. Data Abstraction : \n",
    "Data abstraction and encapsulation both are often used as synonyms. Both are nearly synonyms because data abstraction is achieved through encapsulation.Abstraction is used to hide internal details and show only functionalities.\n"
   ]
  },
  {
   "cell_type": "code",
   "execution_count": null,
   "id": "6ceb718e-bb3a-4cda-a0a8-5b243ac723a4",
   "metadata": {},
   "outputs": [],
   "source": []
  },
  {
   "cell_type": "markdown",
   "id": "64431c0f-0ca3-4e9f-8170-de1f8c0355ac",
   "metadata": {},
   "source": [
    "Q3. Explain why the __init__() function is used. Give a suitable example.\n",
    "\n",
    "Ans: \n",
    "(i)The __init__ function in Python is a special method also called as \"Constructor\", that is called automatically when one creates a new instance of a class. It is used to initialize the object's state. The task of constructors is to initialize (assign values) to the data members of the class when an object of the class is created.\n",
    "\n",
    "(ii) Following is a suitable example to understand the working of __init__() function."
   ]
  },
  {
   "cell_type": "code",
   "execution_count": 8,
   "id": "0b09dbe8-e346-4748-b27b-b83e8909d7fe",
   "metadata": {},
   "outputs": [
    {
     "name": "stdout",
     "output_type": "stream",
     "text": [
      "Details of E1 employee: ('ACC23', 'e1@g.com', 6465)\n",
      "Details of E2 employee: ('ACC87', 'e2@g.com', 8921)\n"
     ]
    }
   ],
   "source": [
    " class Employee:\n",
    "        def __init__(self,e_id,email,phone_num):\n",
    "            self.e_id = e_id\n",
    "            self.email = email\n",
    "            self.p_num = phone_num\n",
    "            \n",
    "        def print_details(self):\n",
    "            return self.e_id,self.email,self.p_num\n",
    "        \n",
    "E1=Employee('ACC23','e1@g.com',6465)\n",
    "print(f\"Details of E1 employee: {E1.print_details()}\")\n",
    "E2=Employee('ACC87','e2@g.com',8921)\n",
    "print(f\"Details of E2 employee: {E2.print_details()}\")\n",
    "\n",
    "#Here the __init__ function helps to take up data for two different objects(employees E1 and E2) for the same parent class (Employee). "
   ]
  },
  {
   "cell_type": "code",
   "execution_count": null,
   "id": "9f5129f1-b784-4a8f-837f-96dc5b81af7d",
   "metadata": {},
   "outputs": [],
   "source": []
  },
  {
   "cell_type": "markdown",
   "id": "4fe6ae72-35fb-4b13-9963-04c0033ea2c9",
   "metadata": {},
   "source": [
    "Q4. Why self is used in OOPs?\n",
    "\n",
    "Ans: The \"self\" keyword in Python is used to refer to the instance of the class. It is used to access the attributes and methods of the class. Without self, it would be impossible to differentiate between instance variables and class variables or methods."
   ]
  },
  {
   "cell_type": "code",
   "execution_count": null,
   "id": "6e79c821-015c-444a-822c-b9e5e6b72f56",
   "metadata": {},
   "outputs": [],
   "source": []
  },
  {
   "cell_type": "markdown",
   "id": "39951939-8558-4bf4-9c9d-d5241ac1be3b",
   "metadata": {},
   "source": [
    "Q5. What is inheritance? Give an example for each type of inheritance.\n",
    "\n",
    "Ans: \n",
    "(i) Inheritance is the capability of one class to derive or inherit the properties from another class. The class that derives properties is called the derived class or child class and the class from which the properties are being derived is called the base class or parent class. \n",
    "\n",
    "(ii) Types of Inheritance.\n",
    "1. Single Inheritance\n",
    "2. Multilevel Inheritance\n",
    "3. Hierarchical Inheritance \n",
    "4. Multiple Inheritance\n",
    "5. Hybrid Inheritance\n"
   ]
  },
  {
   "cell_type": "code",
   "execution_count": 29,
   "id": "80769d05-29fc-4ab6-b4d0-155f49709589",
   "metadata": {},
   "outputs": [
    {
     "name": "stdout",
     "output_type": "stream",
     "text": [
      "Woof!\n",
      "My name is Fido.\n"
     ]
    }
   ],
   "source": [
    "#1. Single Inheritance\n",
    "class Animal:\n",
    "    def __init__(self, name):\n",
    "        self.name = name\n",
    "\n",
    "    def ani_name(self):\n",
    "        print(f\"My name is {self.name}.\")\n",
    "\n",
    "class Dog(Animal):\n",
    "    def speak(self):\n",
    "        print(\"Woof!\")\n",
    "\n",
    "my_dog = Dog(\"Fido\")\n",
    "my_dog.speak()\n",
    "my_dog.ani_name()\n",
    "\n",
    "#Here, the \"Dog\" class is inheriting the properties of single parent class \"Animal\" represting Single Inheritance.Thus,\n",
    "#Animal ----> Base Class\n",
    "#Dog    ----> Derived Class"
   ]
  },
  {
   "cell_type": "code",
   "execution_count": 31,
   "id": "bb364bae-e758-4c8f-9ec1-6b90ebc01f2b",
   "metadata": {},
   "outputs": [
    {
     "name": "stdout",
     "output_type": "stream",
     "text": [
      "Arf!\n",
      "Woof!\n",
      "My name is Fifi.\n"
     ]
    }
   ],
   "source": [
    "#2. Multilevel Inheritance\n",
    "class Animal:\n",
    "    def __init__(self, name):\n",
    "        self.name = name\n",
    "\n",
    "    def ani_name(self):\n",
    "        print(f\"My name is {self.name}.\")\n",
    "\n",
    "class Dog(Animal):\n",
    "    def speak(self):\n",
    "        print(\"Woof!\")\n",
    "\n",
    "class Poodle(Dog):\n",
    "    def bark(self):\n",
    "        print(\"Arf!\")\n",
    "\n",
    "my_poodle = Poodle(\"Fifi\")\n",
    "my_poodle.bark()\n",
    "my_poodle.speak()\n",
    "my_poodle.ani_name()\n",
    "\n",
    "#Here , the \"Poodle\" class is directly inheriting the properties of \"Dog\" class and indirectly inheriting the properties of \"Animal\" class as \n",
    "#\"Dog\" class inherits the properties of \"Animal\" class directly, alltogether represting Multilevel Inheritance.Thus, \n",
    "#Animal ----> Base Class\n",
    "#Dog    ----> Intermediate Class\n",
    "#Poodle ----> Derived Class"
   ]
  },
  {
   "cell_type": "code",
   "execution_count": 18,
   "id": "129e90cd-caa3-45c3-b436-e0b46863918b",
   "metadata": {},
   "outputs": [
    {
     "name": "stdout",
     "output_type": "stream",
     "text": [
      "Woof!\n",
      "My name is Fido.\n",
      "Meow!\n",
      "My name is Felix.\n"
     ]
    }
   ],
   "source": [
    "#3. Hierarchical Inheritance \n",
    "class Animal:\n",
    "    def __init__(self, name):\n",
    "        self.name = name\n",
    "        \n",
    "    def ani_name(self):\n",
    "        print(f\"My name is {self.name}.\")\n",
    "\n",
    "class Dog(Animal):\n",
    "    def speak(self):\n",
    "        print(\"Woof!\")\n",
    "        self.ani_name()\n",
    "\n",
    "class Cat(Animal):\n",
    "    def speak(self):\n",
    "        print(\"Meow!\")\n",
    "        self.ani_name()\n",
    "\n",
    "my_dog = Dog(\"Fido\")\n",
    "my_dog.speak()\n",
    "\n",
    "my_cat = Cat(\"Felix\")\n",
    "my_cat.speak()\n",
    "\n",
    "#Here , the \"Dog\" class is inheriting the properties of \"Animal\" class. And again the \"Cat\" class is also inheriting the properties of \"Animal\" class ,\n",
    "#alltogether represting Hierarchical Inheritance. Thus,\n",
    "#Animal ----> Base Class\n",
    "#Dog    ----> Derived Class 1\n",
    "#Cat    ----> Derived Class 2"
   ]
  },
  {
   "cell_type": "code",
   "execution_count": 33,
   "id": "d2df8c62-d94b-4cce-b978-ef08fa5fd492",
   "metadata": {},
   "outputs": [
    {
     "name": "stdout",
     "output_type": "stream",
     "text": [
      "Woof!\n",
      "My name is Fido.\n",
      "Yippie!I'm flying. "
     ]
    }
   ],
   "source": [
    "#4. Multiple Inheritance\n",
    "class Animal:\n",
    "    def __init__(self, name):\n",
    "        self.name = name\n",
    "\n",
    "    def ani_name(self):\n",
    "        print(f\"My name is {self.name}.\")\n",
    "\n",
    "class Flyer:\n",
    "    def flying(self):\n",
    "        print(\"Yippie!I'm flying.\",end=\" \")\n",
    "\n",
    "class Dog(Animal, Flyer):\n",
    "    \n",
    "    def speak(self):\n",
    "        print(\"Woof!\")\n",
    "        \n",
    "        \n",
    "        \n",
    "\n",
    "my_dog = Dog(\"Fido\")\n",
    "my_dog.speak()\n",
    "my_dog.ani_name()\n",
    "my_dog.flying()\n",
    "\n",
    "#Here , the \"Dog\" class is inheriting the properties of both the \"Animal\" class and \"Flyer\" class.\n",
    "#alltogether represting Multiple Inheritance. Thus,\n",
    "#Animal ----> Base Class1\n",
    "#Flying ----> Base Class2\n",
    "#Dog    ----> Derived Class "
   ]
  },
  {
   "cell_type": "code",
   "execution_count": 57,
   "id": "9389adf7-1fa3-4958-8b1f-ee5d243c6d8f",
   "metadata": {},
   "outputs": [
    {
     "name": "stdout",
     "output_type": "stream",
     "text": [
      "Woof!\n",
      "My name is Fido.\n",
      "Yippie! I can run fast.\n",
      "Hurray!I can swim.\n",
      "\n",
      "Meow!\n",
      "My name is Felix.\n",
      "Yippie! I can run fast.\n",
      "Hurray!I can swim.\n"
     ]
    }
   ],
   "source": [
    "#5. Hybrid Inheritance\n",
    "class Animal:\n",
    "    def __init__(self, name):\n",
    "        self.name = name\n",
    "\n",
    "    def ani_name(self):\n",
    "        print(f\"My name is {self.name}.\")\n",
    "        \n",
    "\n",
    "class Running:\n",
    "    def run(self):\n",
    "        print(\"Yippie! I can run fast.\")\n",
    "    \n",
    "class Swimming:\n",
    "    def swim(self):\n",
    "        print(\"Hurray!I can swim.\")\n",
    "\n",
    "class Dog(Animal, Running, Swimming):\n",
    "    def speak(self):\n",
    "        print(\"Woof!\")\n",
    "        self.ani_name()\n",
    "        \n",
    "class Cat(Animal,Running, Swimming):\n",
    "    def speak(self):\n",
    "        print(\"Meow!\")\n",
    "        self.ani_name()\n",
    "\n",
    "        \n",
    "my_dog = Dog(\"Fido\")\n",
    "my_dog.speak()\n",
    "my_dog.run()\n",
    "my_dog.swim()\n",
    "print()\n",
    "my_cat = Cat(\"Felix\")\n",
    "my_cat.speak() \n",
    "my_cat.run()\n",
    "my_cat.swim()\n",
    "\n",
    "#Here , the \"Dog\" class is inheriting the properties of multiple classes such as \"Animal\" class ,\"Running\" class and \"Swimming\" class,represting Multiple Inheritance. \n",
    "#Here , the \"Cat\" class is inheriting the properties of multiple classes such as \"Animal\" class ,\"Running\" class and \"Swimming\" class,represting Multiple Inheritance. \n",
    "\n",
    "#Two Derived classes(\"Dog\" & \"Cat\") from similar base classes representing Hierarchical Inheritance. \n",
    "\n",
    "#Altogether they are representing Hybrid Inheritance(combination of two different inheritance namingly, Multiple and Hierarchical).\n",
    "\n",
    "#Thus,\n",
    "#Animal   ----> Base Class1\n",
    "#Running  ----> Base Class2\n",
    "#Walking  ----> Base Class3\n",
    "#Swimming ----> Base Class4\n",
    "#Dog      ----> Derived Class1\n",
    "#Cat      ----> Derived Class2 \n"
   ]
  },
  {
   "cell_type": "code",
   "execution_count": null,
   "id": "227b62e7-8158-436f-9528-0323e18650e7",
   "metadata": {},
   "outputs": [],
   "source": []
  }
 ],
 "metadata": {
  "kernelspec": {
   "display_name": "Python 3 (ipykernel)",
   "language": "python",
   "name": "python3"
  },
  "language_info": {
   "codemirror_mode": {
    "name": "ipython",
    "version": 3
   },
   "file_extension": ".py",
   "mimetype": "text/x-python",
   "name": "python",
   "nbconvert_exporter": "python",
   "pygments_lexer": "ipython3",
   "version": "3.10.8"
  }
 },
 "nbformat": 4,
 "nbformat_minor": 5
}
